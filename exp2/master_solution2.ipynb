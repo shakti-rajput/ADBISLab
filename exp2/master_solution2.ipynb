{
 "cells": [
  {
   "cell_type": "code",
   "execution_count": 1,
   "metadata": {},
   "outputs": [],
   "source": [
    "from pyspark.sql import functions as F\n",
    "from pyspark.sql import SparkSession\n",
    "from pyspark.sql.types import *\n",
    "from pyspark.sql import SQLContext\n",
    "\n",
    "# initialise Spark Session\n",
    "spark = SparkSession.builder.appName(\"cite\").getOrCreate()\n",
    "sc = spark.sparkContext\n",
    "sqlContext = SQLContext(sc)"
   ]
  },
  {
   "cell_type": "code",
   "execution_count": 2,
   "metadata": {},
   "outputs": [],
   "source": [
    "# Parse a line from the file users_libraries.txt\n",
    "# semi-colon to separate user hash with library, comma to separate the IDs in the library\n",
    "def parse_users_libraries(line):\n",
    "    if not line:\n",
    "        return\n",
    "    userHash, libraryRAW = line.split(';')\n",
    "    library = [int(doc_id) for doc_id in libraryRAW.split(',')]\n",
    "    print(library)\n",
    "    return userHash, library"
   ]
  },
  {
   "cell_type": "code",
   "execution_count": 3,
   "metadata": {},
   "outputs": [],
   "source": [
    "# Parse a line from the file papers_vocab.txt\n",
    "# comma to separate ID and vocab, space to separate vocabularies\n",
    "def parse_papers_count(line):\n",
    "    if not line:\n",
    "        return dict()\n",
    "    papersCountRaw = line.split(' ')\n",
    "    papersCount = dict()\n",
    "    for pcRaw in papersCountRaw:\n",
    "        paper, count = pcRaw.split(':')\n",
    "        papersCount[paper] = int(count)\n",
    "    return papersCount"
   ]
  },
  {
   "cell_type": "code",
   "execution_count": 4,
   "metadata": {},
   "outputs": [],
   "source": [
    "citeulike_path = 'dataset/citeulike_dbis/'"
   ]
  },
  {
   "cell_type": "code",
   "execution_count": 5,
   "metadata": {},
   "outputs": [],
   "source": [
    "# load authors\n",
    "authors = spark.read.csv(citeulike_path + \"authors.csv\", header=True)\n",
    "\n",
    "# load papers\n",
    "# provide schema while loading papers\n",
    "papersSchema = StructType([\n",
    "    #  name, dataType, nullable\n",
    "    StructField(\"paper_id\", IntegerType(), False),\n",
    "    StructField(\"type\", StringType(), True),\n",
    "    StructField(\"journal\", StringType(), True),\n",
    "    StructField(\"book_title\", StringType(), True),\n",
    "    StructField(\"series\", StringType(), True),\n",
    "    StructField(\"publisher\", StringType(), True),\n",
    "    StructField(\"pages\", StringType(), True),\n",
    "    StructField(\"volume\", StringType(), True),\n",
    "    StructField(\"number\", StringType(), True),\n",
    "    StructField(\"year\", StringType(), True),\n",
    "    StructField(\"month\", StringType(), True),\n",
    "    StructField(\"postedat\", StringType(), True),\n",
    "    StructField(\"address\", StringType(), True),\n",
    "    StructField(\"title\", StringType(), True),\n",
    "    StructField(\"abstract\", StringType(), True)\n",
    "])\n",
    "\n",
    "papers = spark.read.csv(citeulike_path + \"papers.csv\", header = False, schema = papersSchema)\n",
    "\n",
    "# load keywords\n",
    "keywordsSchema = StructType([\n",
    "    #  name, dataType, nullable\n",
    "    StructField(\"paper_id\", IntegerType(), False),\n",
    "    StructField(\"keyword\", StringType(), False)\n",
    "])\n",
    "\n",
    "keywords = spark.read.csv(citeulike_path + \"keywords.csv\", header=False, schema = keywordsSchema)\n",
    "\n",
    "# load papers vocabularies\n",
    "papers_vocab = sc.textFile(citeulike_path + \"papers_terms.txt\")\n",
    "# remove the header\n",
    "header = papers_vocab.first()\n",
    "papers_vocab= papers_vocab.filter(lambda line: line != header)\n",
    "\n",
    "papers_vocab = papers_vocab.map(lambda k: k.split(\",\"))\n",
    "papers_vocab = papers_vocab.map(lambda x: (int(x[0]), parse_papers_count(x[1])))\n",
    "\n",
    "papersVocSchema = StructType([\n",
    "    #  name, dataType, nullable\n",
    "    StructField(\"paper_id\", IntegerType(), False),\n",
    "    StructField(\"vocabularies\", MapType(StringType(), IntegerType(), False), True),\n",
    "])\n",
    "papers_vocab = papers_vocab.toDF(papersVocSchema)\n",
    "\n",
    "# load user libraries\n",
    "users_libraries = sc.textFile(citeulike_path + 'users_libraries.txt')\n",
    "users_libraries = users_libraries.map(parse_users_libraries)\n",
    "\n",
    "usersLibrariesSchema = StructType([\n",
    "    #  name, dataType, nullable\n",
    "    StructField(\"user_hash_id\", StringType(), False),\n",
    "    StructField(\"user_library\", ArrayType(IntegerType(), False), False),\n",
    "])\n",
    "users_libraries = users_libraries.toDF(usersLibrariesSchema)\n",
    "\n",
    "# load vocabularies\n",
    "vocabs = sc.textFile(citeulike_path + 'terms.txt')\n",
    "vocabs = vocabs.map(lambda k: k.split(\"\\t\"))\n",
    "vocabs = vocabs.toDF()"
   ]
  },
  {
   "cell_type": "markdown",
   "metadata": {},
   "source": [
    "# Exercise 2. 1 (Advanced analysis, 10 points)\n",
    "Before developing the recommender system, you need to get more understanding about the citeulike\n",
    "dataset. This helps you to better choose, design and evaluate the suitable recommendation algorithm.\n",
    "Write a python program that uses spark to calculate the following information:\n",
    "\n",
    "## a) Examine how much missing ratings are there in the citeulike dataset by calculating the sparsity of the rating matrix."
   ]
  },
  {
   "cell_type": "code",
   "execution_count": 6,
   "metadata": {},
   "outputs": [],
   "source": [
    "ratings_count = users_libraries.withColumn('numb_ratings', F.size(\"user_library\"))\n",
    "# number of items\n",
    "num_items = papers.count()\n",
    "# number of users\n",
    "num_users = users_libraries.count()\n",
    "# number of total ratings\n",
    "num_ratings = ratings_count.selectExpr('SUM(numb_ratings)').collect()[0]['sum(numb_ratings)']"
   ]
  },
  {
   "cell_type": "code",
   "execution_count": 7,
   "metadata": {},
   "outputs": [
    {
     "name": "stdout",
     "output_type": "stream",
     "text": [
      "Sparsity: 0.9998305694442852\n"
     ]
    }
   ],
   "source": [
    "sparsity = 1 - num_ratings / (num_users * num_items)\n",
    "print('Sparsity:', sparsity)"
   ]
  },
  {
   "cell_type": "markdown",
   "metadata": {},
   "source": [
    "## b) Study the users’ behavior by examining the number of ratings given by the users. For that, calculate and plot the (users, number of ratings) histogram, do you notice a long tail?"
   ]
  },
  {
   "cell_type": "code",
   "execution_count": 8,
   "metadata": {},
   "outputs": [
    {
     "data": {
      "image/png": "[encoded data removed]",
      "text/plain": [
       "<matplotlib.figure.Figure at 0x7f9ae4f8ae80>"
      ]
     },
     "metadata": {},
     "output_type": "display_data"
    }
   ],
   "source": [
    "import matplotlib.pyplot as plt\n",
    "\n",
    "# items ratings - Long Tail\n",
    "exploded_ratings = users_libraries.selectExpr('user_hash_id','explode(user_library) AS item')\n",
    "grouped_ratings = exploded_ratings.groupBy('item').count().selectExpr('count')\n",
    "items_ratings_count_pd = grouped_ratings.sort(F.col('count').desc()).toPandas()\n",
    "items_ratings_count_pd[:100].plot()\n",
    "plt.show()"
   ]
  },
  {
   "cell_type": "markdown",
   "metadata": {},
   "source": [
    "## c) Study the papers popularity by looking at the number or ratings each paper gets. For that, calculate and plot the (items, number of ratings) histogram, do you notice a long tail here as well?"
   ]
  },
  {
   "cell_type": "code",
   "execution_count": 9,
   "metadata": {},
   "outputs": [
    {
     "data": {
      "image/png": "[encoded data removed]",
      "text/plain": [
       "<matplotlib.figure.Figure at 0x7f9ae4caab70>"
      ]
     },
     "metadata": {},
     "output_type": "display_data"
    }
   ],
   "source": [
    "import matplotlib.pyplot as plt\n",
    "\n",
    "# convert to pandas and plot\n",
    "ratings_count_pd =ratings_count.selectExpr('user_hash_id', 'numb_ratings').sort(F.col('numb_ratings').desc()).toPandas()\n",
    "ratings_count_pd.plot()\n",
    "# users ratings\n",
    "plt.show()"
   ]
  },
  {
   "cell_type": "markdown",
   "metadata": {},
   "source": [
    "# Exercise 2. 2 (Rating matrix preparation, 10 points)\n",
    "Write a python program that uses spark to load users ratings from the file (users libraries.txt) into a\n",
    "DataFrame with the following columns:\n",
    "\u000f user id: a unique positive integer id for each user\n",
    "\u000f paper id: a unique positive integer id for each item\n",
    "\u000f rating: an integer value, you can use 1."
   ]
  },
  {
   "cell_type": "code",
   "execution_count": 31,
   "metadata": {},
   "outputs": [],
   "source": [
    "from pyspark.sql.functions import lit\n",
    "import ctypes\n",
    "import sys\n",
    "\n",
    "\n",
    "# Convert string keys into int\n",
    "## Map user_hash to integer ids, produce a lookup table\n",
    "user_hashs = users_libraries.select(\"user_hash_id\").distinct()\n",
    "user_hash_id_LUT = sqlContext.createDataFrame(user_hashs.rdd.map(lambda x: x[0]).zipWithIndex(), StructType([StructField(\"user_hash_id\", StringType(), True),StructField(\"user_id\", IntegerType(), True)]))\n",
    "\n",
    "## Replace user_hash_id with user_id:\n",
    "users_libraries_with_ids = users_libraries.join(user_hash_id_LUT, users_libraries.user_hash_id == user_hash_id_LUT.user_hash_id).select('user_id','user_library')\n",
    "\"\"\"\n",
    "    The following commented code doesn't work because monotonically_increasing_id generates 64 bits numbers that use some of the first bits to indicate\n",
    "    the partition that produced them, so when there is more than one partition they are too big for ALS.\n",
    "    \n",
    "from pyspark.sql.functions import monotonically_increasing_id\n",
    "user_hashs = users_libraries.selectExpr(\"user_hash_id\", \"user_library\", \"row_number AS id\")\n",
    "users_libraries_with_ids = user_hashs#.withColumn(\"id\", monotonically_increasing_id())\n",
    "\"\"\"\n",
    "ratingsRDD = users_libraries_with_ids.rdd\n",
    "\n",
    "# Generate ratings (user_id, item_id,rating)\n",
    "ratings = users_libraries_with_ids.selectExpr('user_id','explode(user_library) AS item_id')\n",
    "ratings = ratings.withColumn('rating', lit(1))"
   ]
  },
  {
   "cell_type": "code",
   "execution_count": 32,
   "metadata": {},
   "outputs": [],
   "source": [
    "from random import randint\n",
    "def generate_negatives(positives, max_size):\n",
    "    negatives = set()\n",
    "    while len(negatives) < len(positives):\n",
    "        candidate = randint(0, max_size)\n",
    "        if candidate not in positives:\n",
    "            negatives.add(candidate)\n",
    "    return list(negatives)\n",
    "\n",
    "# add the negative ratings\n",
    "ratingsRDD = users_libraries_with_ids.rdd\n",
    "ratingsRDD = ratingsRDD.map(lambda x: (x[0], x[1], generate_negatives(x[1], num_items)))\n",
    "positive_ratings = ratingsRDD.toDF().selectExpr('_1 AS user_id','explode(_2) AS item_id').withColumn('rating', lit(1))\n",
    "negative_ratings = ratingsRDD.toDF().selectExpr('_1 AS user_id','explode(_3) AS item_id').withColumn('rating', lit(0))\n",
    "ratings = positive_ratings.union(negative_ratings)"
   ]
  },
  {
   "cell_type": "markdown",
   "metadata": {},
   "source": [
    "# Exercise 2. 3 (ALS algorithm, 10 points)\n",
    "Familiarize your self with the usage of the ALS algorithm provided by the MLlib spark library. Understand\n",
    "how to invoke it and the meaning of expected parameters. Then, write a python program that\n",
    "employs ALS to fit a model from the dataframe you generated in the last task. Use the learned model to\n",
    "generate top 10 recommendations for all users"
   ]
  },
  {
   "cell_type": "code",
   "execution_count": 16,
   "metadata": {},
   "outputs": [],
   "source": [
    "from pyspark.ml.evaluation import RegressionEvaluator\n",
    "from pyspark.ml.recommendation import ALS\n",
    "from pyspark.sql import Row\n",
    "\n",
    "# Configure als\n",
    "# Note we set cold start strategy to 'drop' to ensure we don't get NaN evaluation metrics\n",
    "#TODO: add the rank parameter\n",
    "als = ALS(maxIter = 2, rank = 20, regParam = 0.01,  userCol = 'user_id', itemCol ='item_id', ratingCol = 'rating', coldStartStrategy='drop')\n",
    "\n",
    "# fit the model\n",
    "model = als.fit(ratings)\n",
    "\n",
    "# Top 10 recommendations for each user:\n",
    "usersRecommendations = model.recommendForAllUsers(10)\n",
    "\n",
    "# Top 10 users for each paper:\n",
    "paperRecommandations = model.recommendForAllItems(10)\n"
   ]
  },
  {
   "cell_type": "code",
   "execution_count": 33,
   "metadata": {},
   "outputs": [
    {
     "name": "stdout",
     "output_type": "stream",
     "text": [
      "+-------+--------------------+\n",
      "|user_id|     recommendations|\n",
      "+-------+--------------------+\n",
      "|    148|[[2439228,1.09836...|\n",
      "|    463|[[147383,2.029003...|\n",
      "|    471|[[740823,1.115332...|\n",
      "|    496|[[2932527,1.54075...|\n",
      "|    833|[[94154,1.7750247...|\n",
      "|   1088|[[87092,2.3182065...|\n",
      "|   1238|[[2771903,1.94381...|\n",
      "|   1342|[[10159910,2.0777...|\n",
      "|   1580|[[6807625,1.68559...|\n",
      "|   1591|[[484544,1.174334...|\n",
      "|   1645|[[694959,1.044573...|\n",
      "|   1829|[[347175,2.108598...|\n",
      "|   1959|[[282193,3.012484...|\n",
      "|   2122|[[1968054,2.19017...|\n",
      "|   2142|[[9951911,2.29590...|\n",
      "|   2366|[[2759277,1.80345...|\n",
      "|   2659|[[791438,2.516356...|\n",
      "|   2866|[[467090,1.855979...|\n",
      "|   3175|[[1903955,1.53665...|\n",
      "|   3749|[[527168,1.580071...|\n",
      "+-------+--------------------+\n",
      "only showing top 20 rows\n",
      "\n"
     ]
    }
   ],
   "source": [
    "usersRecommendations.show()"
   ]
  },
  {
   "cell_type": "code",
   "execution_count": 34,
   "metadata": {},
   "outputs": [
    {
     "data": {
      "text/plain": [
       "[Row(user_id=15944, recommendations=[Row(item_id=105644, rating=2.867452621459961), Row(item_id=148944, rating=2.464580535888672), Row(item_id=2767438, rating=2.3786861896514893), Row(item_id=1019882, rating=2.3689022064208984), Row(item_id=258848, rating=2.315666437149048), Row(item_id=1982489, rating=2.2998735904693604), Row(item_id=239670, rating=2.292539358139038), Row(item_id=1270989, rating=2.2373573780059814), Row(item_id=1117506, rating=2.2366116046905518), Row(item_id=3829977, rating=2.234501838684082)])]"
      ]
     },
     "execution_count": 34,
     "metadata": {},
     "output_type": "execute_result"
    }
   ],
   "source": [
    "# user_id of  1eac022a97d683eace8815545ce3153f\n",
    "user_x_id = user_hash_id_LUT.filter(user_hash_id_LUT.user_hash_id == '1eac022a97d683eace8815545ce3153f').select('user_id').collect()[0]['user_id']\n",
    "\n",
    "usersRecommendations.filter(usersRecommendations.user_id == user_x_id).collect()"
   ]
  },
  {
   "cell_type": "markdown",
   "metadata": {},
   "source": [
    "# Exercise 2. 4 (Recommender system Evaluation, 10 points)\n",
    "Spark MLlib provides functionality for evaluating machine learning algorithms. Write the python program\n",
    "that uses spark to evaluate your ALS-base recommender that you built in the previous task on a\n",
    "held-out test data following the following steps:\n",
    "\n",
    "## a) Split the rating matrix into two sets: training set (contains 70% of the ratings) and test set (with 30%of the ratings)"
   ]
  },
  {
   "cell_type": "code",
   "execution_count": 36,
   "metadata": {},
   "outputs": [],
   "source": [
    "training, test = ratings.randomSplit([0.7,0.3])"
   ]
  },
  {
   "cell_type": "markdown",
   "metadata": {},
   "source": [
    "## b) Fit a model on the training set."
   ]
  },
  {
   "cell_type": "code",
   "execution_count": 37,
   "metadata": {},
   "outputs": [],
   "source": [
    "model = als.fit(training)"
   ]
  },
  {
   "cell_type": "markdown",
   "metadata": {},
   "source": [
    "## c) Calculate the Root Mean Squared Error (RMSE) over the test set."
   ]
  },
  {
   "cell_type": "code",
   "execution_count": 38,
   "metadata": {},
   "outputs": [
    {
     "name": "stdout",
     "output_type": "stream",
     "text": [
      "RMSE = 0.3701241122812283\n"
     ]
    }
   ],
   "source": [
    "# Evaluate based on RMSE:\n",
    "predictions = model.transform(test)\n",
    "evaluator = RegressionEvaluator(metricName = \"rmse\", labelCol = \"rating\", predictionCol = \"prediction\")\n",
    "rmse = evaluator.evaluate(predictions)\n",
    "print(\"RMSE = {}\".format(rmse))"
   ]
  },
  {
   "cell_type": "markdown",
   "metadata": {},
   "source": [
    "## d) Generate top 10 recommendations over the test set."
   ]
  },
  {
   "cell_type": "code",
   "execution_count": 39,
   "metadata": {},
   "outputs": [
    {
     "name": "stdout",
     "output_type": "stream",
     "text": [
      "Top 10 recommendations for each user based on the predictions of the test dataset:\n",
      "+-------+-------+------+----------+----+\n",
      "|user_id|item_id|rating|prediction|rank|\n",
      "+-------+-------+------+----------+----+\n",
      "|     26|3468922|     1| 1.0610949|   1|\n",
      "|     26|6864015|     1|0.77888405|   2|\n",
      "|     26| 845121|     1| 0.6822828|   3|\n",
      "|     26|6806660|     1|0.65059996|   4|\n",
      "|     26|6563754|     1|0.53402793|   5|\n",
      "|     26|5489845|     1|0.51439255|   6|\n",
      "|     26| 989887|     1| 0.5112466|   7|\n",
      "|     26|1693077|     1| 0.5084427|   8|\n",
      "|     26|4267226|     1|0.46791676|   9|\n",
      "|     26|2729436|     1|0.40642715|  10|\n",
      "|     29|2341475|     1|0.95613927|   1|\n",
      "|     29|2353399|     1| 0.8916104|   2|\n",
      "|     29|1376607|     1| 0.8763686|   3|\n",
      "|     29|2353164|     1| 0.8462488|   4|\n",
      "|     29|3048710|     1|0.47668642|   5|\n",
      "|     29| 950558|     1|0.32409856|   6|\n",
      "|     29| 514565|     1|0.31706372|   7|\n",
      "|     29|2882226|     1|0.28870162|   8|\n",
      "|     29|7415951|     1| 0.1830913|   9|\n",
      "|     29|5375052|     1|0.15965022|  10|\n",
      "+-------+-------+------+----------+----+\n",
      "only showing top 20 rows\n",
      "\n"
     ]
    }
   ],
   "source": [
    "# a) learned model over the test set -> predictions from previous cell\n",
    "# b) For each user, order the papers by the predicted ratings descendingly.\n",
    "# c) Choose the top 10 papers to be the recommendations for that user.\n",
    "from pyspark.sql.window import Window\n",
    "from pyspark.sql.functions import rank, col\n",
    "\n",
    "window = Window.partitionBy(predictions['user_id']).orderBy(predictions['prediction'].desc())\n",
    "\n",
    "top10Predictions = predictions.select('*', rank().over(window).alias('rank')).filter(col('rank') <= 10)\n",
    "\n",
    "print(\"Top 10 recommendations for each user based on the predictions of the test dataset:\")\n",
    "top10Predictions.show()"
   ]
  },
  {
   "cell_type": "markdown",
   "metadata": {},
   "source": [
    "# Exercise 2. 5 (Hyperparameter tuning, 10 points)\n"
   ]
  },
  {
   "cell_type": "markdown",
   "metadata": {},
   "source": [
    "### Important parameters:\n",
    "+ <b>rank</b>: is the number of features to use (also referred to as the number of latent factors).\n",
    "+ <b>maxIter</b>: iterations is the number of iterations of ALS to run.\n",
    "+ <b>regParam</b>: specifies the regularization parameter in ALS."
   ]
  },
  {
   "cell_type": "code",
   "execution_count": 43,
   "metadata": {},
   "outputs": [],
   "source": [
    "from pyspark.ml.evaluation import RegressionEvaluator\n",
    "from pyspark.ml.recommendation import ALS\n",
    "from pyspark.ml.tuning import CrossValidator\n",
    "from pyspark.ml.tuning import ParamGridBuilder\n",
    "from pyspark.ml import Pipeline\n",
    "\n",
    "evaluator = RegressionEvaluator(metricName = \"rmse\", labelCol = \"rating\", predictionCol = \"prediction\")\n",
    "als = ALS(maxIter = 2, rank = 20, regParam = 0.01,  userCol = 'user_id', itemCol ='item_id', ratingCol = 'rating', coldStartStrategy='drop')\n",
    "\n",
    "params = ParamGridBuilder() \\\n",
    "    .baseOn([als.predictionCol, 'prediction']) \\\n",
    "    .addGrid(als.rank, [10, 25, 50]) \\\n",
    "    .build()\n",
    "#.addGrid(als.regParam, [0.01 * i for i in range(1,100)]) \\\n",
    "    #.addGrid(als.maxIter, [1, 2, 3, 4]) \\\n",
    "cv= CrossValidator(estimator=als, estimatorParamMaps=params, evaluator=evaluator)\n"
   ]
  },
  {
   "cell_type": "code",
   "execution_count": 44,
   "metadata": {},
   "outputs": [
    {
     "name": "stdout",
     "output_type": "stream",
     "text": [
      "Time taken for the whole computation: 283 seconds \n"
     ]
    }
   ],
   "source": [
    "from datetime import datetime\n",
    "t_initial=datetime.now()\n",
    "cv_model = cv.fit(training)\n",
    "time_taken=datetime.now()-t_initial\n",
    "print(\"Time taken for the whole computation: {0} seconds \".format(str(time_taken.seconds)))"
   ]
  },
  {
   "cell_type": "code",
   "execution_count": 45,
   "metadata": {},
   "outputs": [
    {
     "name": "stdout",
     "output_type": "stream",
     "text": [
      "The best model is for the value of rank: 50\n",
      "The RMSE value for the selected model is: 0.5877320574382847\n"
     ]
    }
   ],
   "source": [
    "best_model = cv_model.bestModel\n",
    "print(\"The best model is for the value of rank:\", best_model.rank)\n",
    "prediction = best_model.transform(test)\n",
    "rmse = evaluator.evaluate(prediction)\n",
    "print(\"The RMSE value for the selected model is:\", rmse)"
   ]
  },
  {
   "cell_type": "markdown",
   "metadata": {},
   "source": [
    "## Try to increase the maxIter, do you get better results? Report your observation.\n",
    "### The results after increasing the maxIter parameter did not get any better.\n"
   ]
  },
  {
   "cell_type": "markdown",
   "metadata": {},
   "source": [
    "## OLD d) For each of the following metrics, write one function that calculates the metric’s value. The metrics should report the average value over all users:"
   ]
  },
  {
   "cell_type": "markdown",
   "metadata": {},
   "source": [
    "\\begin{align}\n",
    "Recall@k = \\frac{1}{\\text{Number of Users}}\\ \\sum_{u \\in users} \\frac{\\text{Number of papers the user u likes in top k}}{\\text{Total number of papers the user u likes}}\\\n",
    "\\end{align}"
   ]
  },
  {
   "cell_type": "code",
   "execution_count": null,
   "metadata": {
    "collapsed": true
   },
   "outputs": [],
   "source": [
    "# users_ratings - each row [user_id, user_library = [,,,]]\n",
    "# top_k_recommendations - each row [user_id, top_recommended_items = [,,,,]]\n",
    "\n",
    "def recall_k(users_ratings, top_k_recommendations):\n",
    "    total_number_of_users = users_ratings.count()\n",
    "    # user_id, count of liked papers per user\n",
    "    total_number_of_papers_per_user = users_ratings.select(users_ratings.user_id, F.size(users_ratings.user_library).alias(\"liked_papers_count\")) \n",
    "    \n",
    "    # user_id, top_recommended_items, user_library\n",
    "    recommendations_ratings = top_k_recommendations.join(users_ratings, top_k_recommendations.user_id == users_ratings.user_id)\\\n",
    "        .select(top_k_recommendations.user_id, top_k_recommendations.top_recommended_items, users_ratings.user_library) \n",
    "\n",
    "    liked_papers_in_top_k_schema = StructType([\n",
    "        #  name, dataType, nullable\n",
    "        StructField(\"user_id\", IntegerType(), False),\n",
    "        StructField(\"papers_count\", IntegerType(), False),\n",
    "    ])\n",
    "    # user_id, count of papers the user u likes in top k\n",
    "    #TODO: check len(set)\n",
    "    \n",
    "    liked_papers_in_top_k_per_user = recommendations_ratings.rdd.map(lambda row: (row[0], len(set(row[1]) & set(row[2])))).toDF(liked_papers_in_top_k_schema)\n",
    "    #TODO: unneded join - replace with add len(row[1]) to the previous RDD\n",
    "    recallDF = liked_papers_in_top_k_per_user.join(total_number_of_papers_per_user, liked_papers_in_top_k_per_user.user_id == total_number_of_papers_per_user.user_id)\\\n",
    "        .select(liked_papers_in_top_k_per_user.papers_count, total_number_of_papers_per_user.liked_papers_count)\n",
    "    sum_over_all_users = recallDF.rdd.map(lambda row : (row[0] / row[1])).sum()\n",
    "    return (1 / total_number_of_users) * sum_over_all_users"
   ]
  },
  {
   "cell_type": "code",
   "execution_count": null,
   "metadata": {
    "collapsed": true
   },
   "outputs": [],
   "source": []
  },
  {
   "cell_type": "markdown",
   "metadata": {},
   "source": [
    "\n",
    "\\begin{align}\n",
    "MRR@k = \\frac{1}{\\text{Number of Users}}\\ \\sum_{u \\in users} \\frac{1}{p_u}\\\n",
    "\\end{align}\n",
    "Where $p_u$ is the position of the first hit in the list of top k recommended papers. For example: given\n",
    "the user’s u library: $\\{$ 7, 12, 19, 66, 10 $\\}$ assume the algorithm produces the following top 10 items\n",
    "ids as recommendation for user u: $\\{$ 3, 4, 5, 7, 12, 43, 2, 10, 66, 19$\\}$. Then: $p_u$ = 4"
   ]
  },
  {
   "cell_type": "code",
   "execution_count": null,
   "metadata": {
    "collapsed": true
   },
   "outputs": [],
   "source": [
    "# TODO add comments\n",
    "\n",
    "# TODO ask about if no common elements\n",
    "def one_over_first_common_element_index(searched_array, searching_array):\n",
    "    set_searched = set(searched_array)\n",
    "    first_commom_element = next((a for a in searching_array if a in set_searched), -1) \n",
    "    if first_commom_element ==  -1:\n",
    "        return 0\n",
    "    else:\n",
    "        return (1/(searched_array.index(first_commom_element) + 1))\n",
    "    \n",
    "def mrr_k(users_ratings, top_k_recommendations):\n",
    "    total_number_of_users = users_ratings.count()\n",
    "\n",
    "    # top_recommended_items, user_library\n",
    "    recommendations_ratings = top_k_recommendations.join(users_ratings, top_k_recommendations.user_id == \\\n",
    "                                               users_ratings.user_id).select(top_k_recommendations.top_recommended_items, users_ratings.user_library) \n",
    "    # 1 / p_u calculation\n",
    "    sum_p_per_user = recommendations_ratings.rdd.map(lambda row: one_over_first_common_element_index(row[0], row[1])).sum()\n",
    "    return (1 / total_number_of_users) * sum_p_per_user"
   ]
  },
  {
   "cell_type": "markdown",
   "metadata": {},
   "source": [
    "## OLD d) e) Calculate and report:\n",
    "* MRR@5 and MRR@10\n",
    "* Recall@k for k [10, 20, 40, 60, 80, 100]"
   ]
  },
  {
   "cell_type": "code",
   "execution_count": null,
   "metadata": {
    "collapsed": true
   },
   "outputs": [],
   "source": [
    "# MRR@5 calculation\n",
    "\n",
    "# fit the model over all data\n",
    "mrr_model = als.fit(ratings) \n",
    "\n",
    "# [Row(user_id=148, recommendations=[Row(item_id=4044418, rating=1.5029594898223877) ...)\n",
    "usersRecommendations = mrr_model.recommendForAllUsers(5)\n",
    "# tranformation of user recommnedation\n",
    "top_5_recommendations = usersRecommendations.selectExpr('user_id','recommendations.item_id AS top_recommended_items')\n",
    "\n",
    "# users_libraries_with_ids - each row [user_id, user_library = [,,,]]\n",
    "# top_5_recommendations - each row [user_id, top_recommended_items = [,,,,]]\n",
    "mrr_5 = mrr_k(users_libraries_with_ids, top_5_recommendations)\n",
    "print(mrr_5)"
   ]
  },
  {
   "cell_type": "code",
   "execution_count": null,
   "metadata": {
    "collapsed": true
   },
   "outputs": [],
   "source": [
    "# MRR@10 calculation\n",
    "\n",
    "# [Row(user_id=148, recommendations=[Row(item_id=4044418, rating=1.5029594898223877) ...)\n",
    "usersRecommendations = mrr_model.recommendForAllUsers(10)\n",
    "# tranformation of user recommnedation\n",
    "top_10_recommendations = usersRecommendations.selectExpr('user_id','recommendations.item_id AS top_recommended_items')\n",
    "\n",
    "# users_libraries_with_ids - each row [user_id, user_library = [,,,]]\n",
    "# top_5_recommendations - each row [user_id, top_recommended_items = [,,,,]]\n",
    "mrr_10 = mrr_k(users_libraries_with_ids, top_10_recommendations)\n",
    "print(mrr_10)"
   ]
  },
  {
   "cell_type": "code",
   "execution_count": null,
   "metadata": {
    "collapsed": true
   },
   "outputs": [],
   "source": [
    "# Recall@10 calculation\n",
    "\n",
    "#TODO split training and transform test \n",
    "\n",
    "# fit the model over all data\n",
    "recall_model = als.fit(ratings)\n",
    "\n",
    "# [Row(user_id=148, recommendations=[Row(item_id=4044418, rating=1.5029594898223877) ...)\n",
    "usersRecommendations = recall_model.recommendForAllUsers(10)\n",
    "\n",
    "# tranformation of user recommnedation\n",
    "top_10_users_recommendations = usersRecommendations.selectExpr('user_id','recommendations.item_id AS top_recommended_items')\n",
    "\n",
    "# users_libraries_with_ids - each row [user_id, user_library = [,,,]]\n",
    "# top_10_users_recommendations - each row [user_id, top_recommended_items = [,,,,]]\n",
    "recall_10 = recall_k(users_libraries_with_ids, top_10_users_recommendations)\n",
    "print(recall_10)"
   ]
  },
  {
   "cell_type": "code",
   "execution_count": null,
   "metadata": {
    "collapsed": true
   },
   "outputs": [],
   "source": [
    "recall_10.filter(F.col('paper_count') == 0).count()"
   ]
  },
  {
   "cell_type": "code",
   "execution_count": null,
   "metadata": {
    "collapsed": true
   },
   "outputs": [],
   "source": [
    "# Recall@20 calculation\n",
    "\n",
    "# [Row(user_id=148, recommendations=[Row(item_id=4044418, rating=1.5029594898223877) ...)\n",
    "usersRecommendations = model.recommendForAllUsers(20)\n",
    "\n",
    "# tranformation of user recommnedation\n",
    "top_20_users_recommendations = usersRecommendations.selectExpr('user_id','recommendations.item_id AS top_recommended_items')\n",
    "\n",
    "# users_libraries_with_ids - each row [user_id, user_library = [,,,]]\n",
    "# top_20_users_recommendations - each row [user_id, top_recommended_items = [,,,,]]\n",
    "recall20 = recall_k(users_libraries_with_ids, top_20_users_recommendations)\n",
    "print(recall20)"
   ]
  },
  {
   "cell_type": "code",
   "execution_count": null,
   "metadata": {
    "collapsed": true
   },
   "outputs": [],
   "source": [
    "# Recall@40 calculation\n",
    "\n",
    "usersRecommendations = model.recommendForAllUsers(40)\n",
    "\n",
    "# tranformation of user recommnedation\n",
    "top_40_users_recommendations = usersRecommendations.selectExpr('user_id','recommendations.item_id AS top_recommended_items')\n",
    "\n",
    "# users_libraries_with_ids - each row [user_id, user_library = [,,,]]\n",
    "# top_20_users_recommendations - each row [user_id, top_recommended_items = [,,,,]]\n",
    "recall40 = recall_k(users_libraries_with_ids, top_40_users_recommendations)\n",
    "print(recall40)"
   ]
  },
  {
   "cell_type": "code",
   "execution_count": null,
   "metadata": {
    "collapsed": true
   },
   "outputs": [],
   "source": [
    "# Recall@60 calculation\n",
    "usersRecommendations = model.recommendForAllUsers(60)\n",
    "\n",
    "# tranformation of user recommnedation\n",
    "top_60_users_recommendations = usersRecommendations.selectExpr('user_id','recommendations.item_id AS top_recommended_items')\n",
    "\n",
    "# users_libraries_with_ids - each row [user_id, user_library = [,,,]]\n",
    "# top_20_users_recommendations - each row [user_id, top_recommended_items = [,,,,]]\n",
    "recall60 = recall_k(users_libraries_with_ids, top_60_users_recommendations)\n",
    "print(recall60)"
   ]
  },
  {
   "cell_type": "code",
   "execution_count": null,
   "metadata": {
    "collapsed": true
   },
   "outputs": [],
   "source": [
    "# Recall@80 calculation\n",
    "usersRecommendations = model.recommendForAllUsers(80)\n",
    "\n",
    "# tranformation of user recommnedation\n",
    "top_80_users_recommendations = usersRecommendations.selectExpr('user_id','recommendations.item_id AS top_recommended_items')\n",
    "\n",
    "# users_libraries_with_ids - each row [user_id, user_library = [,,,]]\n",
    "# top_20_users_recommendations - each row [user_id, top_recommended_items = [,,,,]]\n",
    "recall80 = recall_k(users_libraries_with_ids, top_80_users_recommendations)\n",
    "print(recall80)"
   ]
  },
  {
   "cell_type": "code",
   "execution_count": null,
   "metadata": {
    "collapsed": true
   },
   "outputs": [],
   "source": [
    "# Recall@100 calculation\n",
    "usersRecommendations = model.recommendForAllUsers(100)\n",
    "\n",
    "# tranformation of user recommnedation\n",
    "top_100_users_recommendations = usersRecommendations.selectExpr('user_id','recommendations.item_id AS top_recommended_items')\n",
    "\n",
    "# users_libraries_with_ids - each row [user_id, user_library = [,,,]]\n",
    "# top_20_users_recommendations - each row [user_id, top_recommended_items = [,,,,]]\n",
    "recall100 = recall_k(users_libraries_with_ids, top_100_users_recommendations)\n",
    "print(recall100)"
   ]
  }
 ],
 "metadata": {
  "kernelspec": {
   "display_name": "Python 3",
   "language": "python",
   "name": "python3"
  },
  "language_info": {
   "codemirror_mode": {
    "name": "ipython",
    "version": 3
   },
   "file_extension": ".py",
   "mimetype": "text/x-python",
   "name": "python",
   "nbconvert_exporter": "python",
   "pygments_lexer": "ipython3",
   "version": "3.6.3"
  }
 },
 "nbformat": 4,
 "nbformat_minor": 2
}
