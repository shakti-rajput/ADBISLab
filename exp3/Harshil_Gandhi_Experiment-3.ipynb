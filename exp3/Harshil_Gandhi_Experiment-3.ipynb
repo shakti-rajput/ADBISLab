{
 "cells": [
  {
   "cell_type": "code",
   "execution_count": 1,
   "id": "b0a96e99",
   "metadata": {},
   "outputs": [],
   "source": [
    "#Import all required packages\n",
    "from pyspark import SparkContext,SparkConf\n",
    "from pyspark.sql import SparkSession,SQLContext\n",
    "from pyspark.sql.types import *\n",
    "from pyspark.sql.functions import *\n",
    "from pyspark.sql import Row\n",
    "import pandas as pd\n",
    "import matplotlib.pyplot as plt\n",
    "from pyspark.sql.window import Window\n",
    "from pyspark.ml.feature import StopWordsRemover, RegexTokenizer,HashingTF\n",
    "from pyspark.ml import Pipeline\n",
    "import re\n",
    "from nltk.stem import PorterStemmer\n",
    "from pyspark.ml.linalg import Vectors\n",
    "from pyspark.mllib.clustering import LDA\n",
    "from pyspark.ml.feature import IDF"
   ]
  },
  {
   "cell_type": "code",
   "execution_count": 2,
   "id": "1e28eea0",
   "metadata": {},
   "outputs": [],
   "source": [
    "# Initialise Spark Session\n",
    "spark = SparkSession.builder.appName(\"Experiment3\").getOrCreate()\n",
    "sc = spark.sparkContext\n",
    "sqlContext = SQLContext(sc)"
   ]
  },
  {
   "cell_type": "code",
   "execution_count": 3,
   "id": "10e53038",
   "metadata": {},
   "outputs": [],
   "source": [
    "#PREPARING DATAFRAMES FOR DATSETS\n",
    "\n",
    "#Authors Dataframe\n",
    "#df_authors = spark.read.csv(\"Datasets/authors.csv\", sep = \",\", header = True, quote = '\"')\n",
    "\n",
    "#PaperCsv dataframe\n",
    "papersCsvSchema = StructType([\n",
    "    StructField(\"paper_id\",StringType(),False),\n",
    "    StructField(\"type\",StringType(),False),\n",
    "    StructField(\"journal\",StringType(),False),\n",
    "    StructField(\"book_title\",StringType(),False),\n",
    "    StructField(\"series\",StringType(),False),\n",
    "    StructField(\"publisher\",StringType(),False),\n",
    "    StructField(\"pages\",StringType(),False),\n",
    "    StructField(\"volume\",StringType(),False),\n",
    "    StructField(\"number\",StringType(),False),\n",
    "    StructField(\"year\",StringType(),False),\n",
    "    StructField(\"month\",StringType(),False),\n",
    "    StructField(\"postedat\",StringType(),False),\n",
    "    StructField(\"address\",StringType(),False),\n",
    "    StructField(\"title\",StringType(),False),\n",
    "    StructField(\"abstract\",StringType(),False),\n",
    "])\n",
    "df_paperCsv = spark.read.csv(\"Datasets/papers.csv\", sep = \",\", header = False, schema = papersCsvSchema, quote = '\"')\n",
    "\n",
    "#UserLibrary dataframe\n",
    "userLibrarySchema = StructType([\n",
    "    StructField(\"user_hash_id\",StringType(),False),\n",
    "    StructField(\"user_library\",StringType(),False)\n",
    "])\n",
    "df_userLibrary = spark.read.csv(\"Datasets/users_libraries.txt\", sep = \";\", header = False, schema = userLibrarySchema)\n",
    "df_userLibrary = df_userLibrary.selectExpr(\"user_hash_id\",\"split(user_library,',') AS user_library\")\n",
    "\n",
    "\n",
    "##Keywords dataframe\n",
    "#\n",
    "#keywordsSchema = StructType([\n",
    "#    StructField(\"paper_id\",StringType(),False),\n",
    "#    StructField(\"keyword\",StringType(),False)\n",
    "#])\n",
    "#\n",
    "#df_keywords = spark.read.csv(\"Datasets/keywords.csv\", sep = \",\", header = True, schema = keywordsSchema, quote = '\"')\n",
    "#\n",
    "##Terms Dataframe\n",
    "#terms_df = spark.read.csv(\"Datasets/terms.txt\", header = True)\n",
    "#\n",
    "##Stopword Broadcast\n",
    "#stopWords = sc.textFile(\"Datasets/stopwords_en.txt\")\n",
    "#stopWordsBroadcast = sc.broadcast(stopWords.collect())\n",
    "#\n",
    "##Papers Terms Dataframe\n",
    "#def parse_papers_count(line):\n",
    "#\n",
    "#    if not line:\n",
    "#        return dict()\n",
    "#    papers_count_raw = line.split(' ')\n",
    "#    papers_count = dict()\n",
    "#    for pcRaw in papers_count_raw:\n",
    "#        paper, count = pcRaw.split(':')\n",
    "#        papers_count[paper] = int(count)\n",
    "#    return papers_count\n",
    "#\n",
    "#papers_vocab = spark.read.format(\"csv\").option(\"header\", \"true\").load(\"Datasets/papers_terms.txt\").rdd\n",
    "#papers_vocab = papers_vocab.map(lambda x: (x[0], parse_papers_count(x[1]))).toDF().selectExpr('_1 AS paper_id','_2 AS term_count')    \n"
   ]
  },
  {
   "cell_type": "code",
   "execution_count": 4,
   "id": "e41c0a43",
   "metadata": {},
   "outputs": [],
   "source": [
    "#Ex 3.1: 1,2,3,4,5,6\n",
    "\n",
    "#Cleaning and Tokenizing the data\n",
    "def phraseTokenization(x):\n",
    "    rawPhrase = x[13] + \" \" + x[14] #concatenating title and abstract\n",
    "    rawPhrase = rawPhrase.replace(\"-\",\"\") #removing - from phrase\n",
    "    rawPhrase = rawPhrase.replace(\"_\",\"\") #removing _ from phrase\n",
    "    rawPhrase = rawPhrase.strip() #removing any trailing or leading whitespaces\n",
    "    \n",
    "    #spliting phrase based on non-alphaNumeric characters\n",
    "    phraseArray = re.split('[^a-zA-Z0-9]+',rawPhrase) \n",
    "    \n",
    "    #remove words with less than 3 char\n",
    "    phraseArrayFilteredWords = [i for i in phraseArray if len(i) >= 3]\n",
    "    \n",
    "    return (x[0],list(phraseArrayFilteredWords))\n",
    "\n",
    "\n",
    "df_tokenize = df_paperCsv.na.fill(value=\"\").rdd.map(phraseTokenization).toDF()\n",
    "\n",
    "#Removing StopWords using ML\n",
    "swRemover = StopWordsRemover(inputCol=\"_2\", outputCol=\"cleaned_terms\")\n",
    "df_cleanedData = swRemover.transform(df_tokenize)\n",
    "df_cleanedData = df_cleanedData.selectExpr(\"_1 AS paper_id\",\"cleaned_terms\")\n",
    "\n",
    "#Stemming using Porter stemmer Algo\n",
    "ps =  PorterStemmer()\n",
    "\n",
    "def stemmingTerms(x):\n",
    "    stemmedWords = []\n",
    "    for word in x:\n",
    "        rootWord = ps.stem(word)\n",
    "        stemmedWords.append(rootWord)\n",
    "    return stemmedWords\n",
    "\n",
    "df_cleanedData = df_cleanedData.rdd.mapValues(stemmingTerms).toDF().selectExpr(\"_1 AS paper_id\",\"_2 AS cleaned_terms\")"
   ]
  },
  {
   "cell_type": "code",
   "execution_count": 5,
   "id": "71118f1e",
   "metadata": {},
   "outputs": [],
   "source": [
    "#Ex 3.1 - 7,8\n",
    "# Find the count of papers in which the term is present\n",
    "df_paperCount = df_cleanedData.selectExpr(\"paper_id\",\"explode(cleaned_terms) AS terms\").distinct().groupBy(\"terms\").count().withColumnRenamed(\"count\", \"paper_count\")\n",
    "\n",
    "#10 percent of total papers present in file\n",
    "noOfDistinctPapers_df = int(df_cleanedData.select(countDistinct(\"paper_id\")).collect()[0][0])\n",
    "tenPercentOfTotalPapers = int(noOfDistinctPapers_df/10)\n",
    "\n",
    "# remove words appear in more than 10% of the papers and keep only the words that appear in at least 20 papers \n",
    "df_filterdTerms = df_paperCount.filter((df_paperCount[\"paper_count\"]<=tenPercentOfTotalPapers) & (df_paperCount[\"paper_count\"]>=20))\n",
    "\n",
    "#Fetch top 1000 terms \n",
    "top1000Terms = df_filterdTerms.orderBy(col(\"paper_count\").desc()).limit(1000)"
   ]
  },
  {
   "cell_type": "code",
   "execution_count": 6,
   "id": "a8621d43",
   "metadata": {},
   "outputs": [],
   "source": [
    "#Ex 3.1-1,2,3\n",
    "\n",
    "#associate unique integer values to each term\n",
    "df_termsWithUniqueIndex = top1000Terms.withColumn(\"unique_index\",row_number().over(Window.orderBy(\"paper_count\"))).selectExpr(\"terms\",\"unique_index-1 AS unique_index\")\n",
    "\n",
    "#Collect all terms in a list\n",
    "terms_collection =  [row.terms for row in df_termsWithUniqueIndex.collect()]\n",
    "\n",
    "# Generating Termfrequency Vector for each paper\n",
    "df_cleanedDataExplode = df_cleanedData.selectExpr(\"paper_id\",\"explode(cleaned_terms) AS terms\")\n",
    "\n",
    "#Getting the Unique_index of term \n",
    "df_cleanedDataJoinIndex = df_cleanedDataExplode.join(df_termsWithUniqueIndex,df_cleanedDataExplode.terms == df_termsWithUniqueIndex.terms , how = \"inner\").select(df_cleanedDataExplode.paper_id,df_cleanedDataExplode.terms,df_termsWithUniqueIndex.unique_index)\n",
    "\n",
    "#Getting the term_frequency in each paper\n",
    "df_cleanedDataJoinIndex = df_cleanedDataJoinIndex.groupBy(\"paper_id\",\"unique_index\").count().withColumnRenamed(\"count\", \"term_frquency\")\n",
    "\n",
    "#Creating a sparseVector respresentation for each paper\n",
    "rdd_CleanedDataReducedByPaperId = df_cleanedDataJoinIndex.rdd.map(lambda x: (x[0], [(x[1], x[2])])).reduceByKey(lambda a, b: a + b)\n",
    "rdd_CleanedDataReducedByPaperId = rdd_CleanedDataReducedByPaperId.map(lambda x: (x[0],Vectors.sparse(1000,x[1])))\n",
    "\n",
    "df_CleanedDataSparseVector = rdd_CleanedDataReducedByPaperId.toDF().selectExpr(\"_1 AS paper_id\",\"_2 AS term_frequency_vector\")"
   ]
  },
  {
   "cell_type": "code",
   "execution_count": 7,
   "id": "b89110e4",
   "metadata": {},
   "outputs": [
    {
     "data": {
      "text/plain": [
       "[Row(paper_id='498902', term_frequency_vector=SparseVector(1000, {33: 3.0, 47: 1.0, 79: 1.0, 97: 1.0, 138: 1.0, 170: 6.0, 354: 1.0, 368: 1.0, 394: 1.0, 482: 2.0, 491: 1.0, 541: 1.0, 550: 1.0, 566: 1.0, 581: 1.0, 596: 1.0, 622: 1.0, 632: 1.0, 663: 1.0, 670: 1.0, 720: 2.0, 723: 1.0, 762: 1.0, 764: 1.0, 773: 1.0, 797: 1.0, 820: 1.0, 826: 1.0, 837: 2.0, 843: 1.0, 879: 1.0, 881: 1.0, 890: 1.0, 892: 1.0, 894: 1.0, 928: 1.0, 937: 1.0, 946: 2.0, 949: 3.0, 952: 1.0, 962: 1.0, 965: 1.0, 984: 1.0, 985: 4.0, 990: 1.0, 992: 1.0}))]"
      ]
     },
     "execution_count": 7,
     "metadata": {},
     "output_type": "execute_result"
    }
   ],
   "source": [
    "df_CleanedDataSparseVector.take(1)"
   ]
  },
  {
   "cell_type": "code",
   "execution_count": 8,
   "id": "7e81d6f9",
   "metadata": {},
   "outputs": [],
   "source": [
    "#Ex 3.2\n",
    "\n",
    "#TF-IDF Representation for each paper\n",
    "\n",
    "idf = IDF(inputCol=\"term_frequency_vector\", outputCol=\"tf_idf_vector\")\n",
    "tf_idf_model = idf.fit(df_CleanedDataSparseVector)\n",
    "df_rescaledCleanedData = tf_idf_model.transform(df_CleanedDataSparseVector)\n",
    "df_rescaledCleanedData = df_rescaledCleanedData.select(\"paper_id\", \"tf_idf_vector\")"
   ]
  },
  {
   "cell_type": "code",
   "execution_count": 9,
   "id": "a942aa94",
   "metadata": {},
   "outputs": [
    {
     "name": "stdout",
     "output_type": "stream",
     "text": [
      "+--------+--------------------+\n",
      "|paper_id|       tf_idf_vector|\n",
      "+--------+--------------------+\n",
      "|  498902|(1000,[33,47,79,9...|\n",
      "|  201593|(1000,[38,90,104,...|\n",
      "| 1727709|(1000,[24,55,80,1...|\n",
      "|10101645|(1000,[244,246,29...|\n",
      "|10886724|(1000,[66,96,147,...|\n",
      "|12197482|(1000,[28,39,131,...|\n",
      "| 1287740|(1000,[79,238,260...|\n",
      "|  168969|(1000,[0,174,196,...|\n",
      "| 1857331|(1000,[61,62,169,...|\n",
      "| 1866283|(1000,[134,214,23...|\n",
      "| 2090908|(1000,[177,280,44...|\n",
      "|   23055|(1000,[24,56,225,...|\n",
      "| 2323621|(1000,[119,162,26...|\n",
      "| 2594134|(1000,[69,76,90,1...|\n",
      "| 2707871|(1000,[0,1,2,4,7,...|\n",
      "| 2798913|(1000,[1,55,56,65...|\n",
      "| 2945717|(1000,[217,229,24...|\n",
      "|  306396|(1000,[89,150,202...|\n",
      "| 3299623|(1000,[157,160,19...|\n",
      "|  383220|(1000,[93,104,114...|\n",
      "+--------+--------------------+\n",
      "only showing top 20 rows\n",
      "\n"
     ]
    }
   ],
   "source": [
    "df_rescaledCleanedData.show()"
   ]
  },
  {
   "cell_type": "code",
   "execution_count": 10,
   "id": "fc99f8ad",
   "metadata": {},
   "outputs": [],
   "source": [
    "#Ex 3.3\n",
    "\n",
    "#from pyspark.mllib.linalg import Vectors as MLlibVectors\n",
    "#\n",
    "## Latent Direchlet Allocation\n",
    "#\n",
    "#num_topics = 40\n",
    "#\n",
    "## Transform data into LDA supported format\n",
    "#rdd_lda_format = df_CleanedDataSparseVector.rdd.mapValues(MLlibVectors.fromML).map(lambda x: [int(x[0]),x[1]])\n",
    "#\n",
    "##Train the LDA Model\n",
    "#lda_model = LDA.train(rdd_lda_format, k=num_topics)\n",
    "\n",
    "from pyspark.ml.linalg import Vectors, SparseVector\n",
    "from pyspark.ml.clustering import LDA\n",
    "\n",
    "# Latent Direchlet Allocation\n",
    "\n",
    "num_topics = 40\n",
    "\n",
    "# Transform data into LDA supported format\n",
    "df_lda_format = df_CleanedDataSparseVector.selectExpr(\"paper_id AS id\",\"term_frequency_vector AS features\")\n",
    "\n",
    "lda = LDA(k=40)\n",
    "lda_model = lda.fit(df_lda_format)"
   ]
  },
  {
   "cell_type": "code",
   "execution_count": 11,
   "id": "f30ee8f5",
   "metadata": {},
   "outputs": [
    {
     "name": "stdout",
     "output_type": "stream",
     "text": [
      "+--------+--------------------+\n",
      "|      id|            features|\n",
      "+--------+--------------------+\n",
      "|  498902|(1000,[33,47,79,9...|\n",
      "|  201593|(1000,[38,90,104,...|\n",
      "| 1727709|(1000,[24,55,80,1...|\n",
      "|10101645|(1000,[244,246,29...|\n",
      "|10886724|(1000,[66,96,147,...|\n",
      "|12197482|(1000,[28,39,131,...|\n",
      "| 1287740|(1000,[79,238,260...|\n",
      "|  168969|(1000,[0,174,196,...|\n",
      "| 1857331|(1000,[61,62,169,...|\n",
      "| 1866283|(1000,[134,214,23...|\n",
      "| 2090908|(1000,[177,280,44...|\n",
      "|   23055|(1000,[24,56,225,...|\n",
      "| 2323621|(1000,[119,162,26...|\n",
      "| 2594134|(1000,[69,76,90,1...|\n",
      "| 2707871|(1000,[0,1,2,4,7,...|\n",
      "| 2798913|(1000,[1,55,56,65...|\n",
      "| 2945717|(1000,[217,229,24...|\n",
      "|  306396|(1000,[89,150,202...|\n",
      "| 3299623|(1000,[157,160,19...|\n",
      "|  383220|(1000,[93,104,114...|\n",
      "+--------+--------------------+\n",
      "only showing top 20 rows\n",
      "\n"
     ]
    }
   ],
   "source": [
    "df_lda_format.show()"
   ]
  },
  {
   "cell_type": "code",
   "execution_count": 12,
   "id": "fe752359",
   "metadata": {},
   "outputs": [],
   "source": [
    "#Ex 3.3\n",
    "##Find the top 5 term of each extracted Topic\n",
    "\n",
    "#topicIndices = sc.parallelize(lda_model.describeTopics(maxTermsPerTopic = 5))\n",
    "#\n",
    "#def Get_TopicTerms(topic):\n",
    "#    termsId_array = topic[0] \n",
    "#    terms_array = []\n",
    "#    \n",
    "#    #Finding the term from the their corresponding Unique index\n",
    "#    for i in range(5):\n",
    "#        term = terms_collection[termsId_array[i]]\n",
    "#        terms_array.append(term)\n",
    "#    return terms_array\n",
    "#\n",
    "#topics_Final = topicIndices.map(Get_TopicTerms).collect()\n",
    "\n",
    "#Find the top 5 term of each extracted Topic\n",
    "topicIndices = lda_model.describeTopics(maxTermsPerTopic = 5)\n",
    "\n",
    "def Get_TopicTerms(topic):\n",
    "    termsId_array = topic[1] \n",
    "    terms_array = []\n",
    "    \n",
    "    #Finding the term from the their corresponding Unique index\n",
    "    for i in range(5):\n",
    "        term = terms_collection[termsId_array[i]]\n",
    "        terms_array.append(term)\n",
    "    return (topic[0],terms_array)\n",
    "\n",
    "topics_Final = topicIndices.rdd.map(Get_TopicTerms).toDF().selectExpr(\"_1 AS topic\",\"_2 AS top_5_terms\")\n",
    "\n",
    "df_lda_paper_topic_model = lda_model.transform(df_lda_format) # preparing it for Ex 3.5"
   ]
  },
  {
   "cell_type": "code",
   "execution_count": 13,
   "id": "51301aa0",
   "metadata": {},
   "outputs": [
    {
     "name": "stdout",
     "output_type": "stream",
     "text": [
      "+-----+--------------------+\n",
      "|topic|         top_5_terms|\n",
      "+-----+--------------------+\n",
      "|    0|[program, behavio...|\n",
      "|    1|[technolog, digit...|\n",
      "|    2|[group, children,...|\n",
      "|    3|[chang, climat, t...|\n",
      "|    4|[protein, simul, ...|\n",
      "|    5|[electron, atom, ...|\n",
      "|    6|[protein, interac...|\n",
      "|    7|[theori, mathemat...|\n",
      "|    8|[gene, express, n...|\n",
      "|    9|[time, mine, extr...|\n",
      "|   10|[social, knowledg...|\n",
      "|   11|[diseas, patient,...|\n",
      "|   12|[estim, statist, ...|\n",
      "|   13|[read, sequenc, m...|\n",
      "|   14|[evolut, anim, re...|\n",
      "|   15|[tool, set, avail...|\n",
      "|   16|[scienc, environm...|\n",
      "|   17|[measur, phase, l...|\n",
      "|   18|[genom, dna, sequ...|\n",
      "|   19|[memori, state, q...|\n",
      "+-----+--------------------+\n",
      "only showing top 20 rows\n",
      "\n"
     ]
    }
   ],
   "source": [
    "topics_Final.show()"
   ]
  },
  {
   "cell_type": "code",
   "execution_count": 14,
   "id": "5acf0c54",
   "metadata": {},
   "outputs": [],
   "source": [
    "#Ex3.4\n",
    "\n",
    "#User Profiling\n",
    "\n",
    "#1)  produces a user profile for each user as the summation of the TF-IDF vectors of the papers that appear in the user’s library\n",
    "\n",
    "df_userLibrary_explode = df_userLibrary.selectExpr(\"user_hash_id\",\"explode(user_library) AS paper_id\")\n",
    "df_userJoined_TfIdf = df_userLibrary_explode.join(df_rescaledCleanedData,df_userLibrary_explode.paper_id == df_rescaledCleanedData.paper_id, how=\"inner\").select(df_userLibrary_explode.user_hash_id,df_userLibrary_explode.paper_id,df_rescaledCleanedData.tf_idf_vector)"
   ]
  },
  {
   "cell_type": "code",
   "execution_count": 15,
   "id": "2311125d",
   "metadata": {},
   "outputs": [],
   "source": [
    "import collections\n",
    "\n",
    "# Adding 2 sparse vectors\n",
    "def addSparseVectors(v1, v2):\n",
    "    values = collections.defaultdict(float) # Initialize Dictionary with default value 0.0\n",
    "    \n",
    "    # Add values from v1 SparseVector\n",
    "    for i in range(v1.indices.size):\n",
    "        values[v1.indices[i]] += v1.values[i]\n",
    "    # Add values from v2 SParseVector\n",
    "    for i in range(v2.indices.size):\n",
    "        values[v2.indices[i]] += v2.values[i]\n",
    "    return Vectors.sparse(v1.size, dict(values))\n",
    "\n",
    "#final Df : summation of TF-IDF vector for each userlibrary\n",
    "df_userprofile_tfidf = df_userJoined_TfIdf.selectExpr(\"user_hash_id\",\"tf_idf_vector\").rdd.reduceByKey(lambda x,y: addSparseVectors(x,y)).toDF().selectExpr(\"_1 AS user_hash_id\",\"_2 AS sum_tf_idf_vector\")"
   ]
  },
  {
   "cell_type": "code",
   "execution_count": 16,
   "id": "b75f7724",
   "metadata": {},
   "outputs": [
    {
     "data": {
      "text/plain": [
       "[Row(user_hash_id='6931f7f79678cf72aae416ff7cb43bb1', sum_tf_idf_vector=SparseVector(1000, {0: 13.9931, 1: 23.287, 3: 9.3123, 4: 37.249, 5: 4.6555, 6: 4.6536, 7: 32.5708, 10: 9.2996, 11: 4.6492, 12: 23.2428, 13: 4.6467, 14: 41.8145, 18: 9.2734, 20: 4.633, 22: 4.6305, 23: 41.6692, 24: 4.6299, 26: 97.1893, 27: 9.2561, 28: 37.0147, 29: 4.6256, 31: 4.6238, 33: 4.6146, 34: 13.8384, 35: 4.6122, 36: 13.8293, 37: 23.0429, 38: 13.8257, 39: 9.2147, 41: 4.6044, 42: 9.2087, 47: 18.3839, 48: 9.192, 51: 13.7737, 52: 4.5889, 53: 4.5889, 55: 13.756, 56: 4.583, 57: 9.1601, 60: 13.7331, 62: 13.7243, 65: 4.5707, 67: 9.1298, 68: 4.5643, 70: 13.6809, 72: 173.1171, 74: 95.6219, 75: 36.4183, 76: 9.1034, 77: 4.5511, 78: 4.55, 79: 13.6483, 80: 9.0989, 81: 9.0977, 84: 4.5466, 86: 40.8787, 87: 18.166, 88: 4.5415, 89: 4.5409, 92: 27.2389, 93: 72.5921, 94: 31.7512, 95: 4.5353, 99: 18.1279, 100: 9.0628, 102: 9.0484, 104: 4.5236, 105: 9.045, 107: 9.0362, 110: 4.5153, 111: 13.5444, 113: 4.5148, 115: 9.023, 116: 9.023, 117: 36.0877, 118: 4.5104, 119: 4.5099, 120: 4.5093, 122: 4.5066, 123: 9.0088, 124: 4.5033, 127: 13.5035, 128: 17.9895, 131: 125.806, 132: 8.9861, 133: 13.476, 134: 8.9786, 136: 4.4877, 139: 17.9423, 140: 8.9648, 141: 4.4808, 142: 4.4808, 144: 4.4797, 145: 4.4765, 146: 8.9531, 147: 40.2794, 148: 22.3696, 149: 31.2769, 150: 13.4028, 152: 13.3981, 154: 8.9248, 156: 31.2184, 158: 22.2781, 159: 17.8225, 162: 22.2498, 165: 8.8917, 166: 22.2241, 168: 26.6658, 169: 4.4423, 171: 4.4412, 172: 8.8784, 173: 26.6322, 174: 62.1132, 176: 4.4326, 177: 17.7264, 179: 22.1504, 181: 4.4276, 182: 4.4276, 186: 39.8254, 188: 17.6962, 189: 8.8471, 191: 52.9866, 192: 4.4136, 193: 17.6523, 194: 17.6424, 196: 4.4086, 200: 8.8064, 201: 4.3998, 203: 21.9915, 204: 30.7812, 205: 8.7927, 207: 8.7771, 208: 17.5446, 210: 30.6794, 214: 17.4719, 215: 17.4643, 216: 34.9173, 217: 34.9059, 220: 30.5196, 221: 8.7171, 223: 21.788, 225: 8.7096, 226: 4.3543, 228: 4.3478, 229: 21.7227, 230: 21.7134, 231: 4.3372, 232: 4.3367, 234: 4.3335, 235: 12.9977, 236: 4.3307, 237: 8.6578, 238: 4.3285, 239: 4.3271, 242: 12.9785, 245: 8.6496, 246: 17.2811, 249: 34.5406, 251: 17.2631, 254: 17.2559, 255: 21.5699, 256: 4.3108, 257: 30.1571, 258: 17.229, 259: 4.305, 260: 12.9084, 262: 4.3015, 263: 34.3658, 265: 4.2922, 266: 8.5721, 267: 8.5721, 268: 12.849, 269: 4.2826, 271: 8.5643, 273: 12.8373, 274: 8.5565, 276: 17.1112, 277: 4.2778, 278: 4.2761, 280: 21.3609, 281: 4.2705, 282: 4.27, 283: 38.4226, 284: 4.2687, 285: 12.8037, 287: 17.0493, 289: 21.2903, 290: 8.5153, 291: 12.7564, 292: 4.2471, 293: 101.8495, 295: 80.5752, 297: 12.7199, 299: 4.2362, 300: 8.4708, 301: 12.7062, 304: 16.9151, 306: 21.1335, 307: 16.9019, 310: 4.2193, 311: 8.4362, 313: 16.8675, 314: 8.4224, 315: 8.4183, 316: 21.0417, 317: 12.6141, 319: 12.5949, 320: 16.7916, 321: 4.1943, 322: 8.3878, 323: 12.5769, 327: 41.8676, 328: 4.1868, 329: 29.299, 331: 12.5567, 332: 4.184, 334: 20.9062, 335: 8.3609, 336: 20.9003, 337: 16.7139, 338: 4.1781, 339: 29.2274, 344: 8.3243, 345: 4.161, 346: 66.5696, 347: 4.1594, 348: 20.7953, 351: 12.4737, 352: 4.1552, 353: 4.1541, 354: 33.2172, 356: 8.3013, 358: 16.5934, 360: 20.7284, 361: 157.5214, 362: 4.1453, 363: 20.6962, 366: 8.2642, 369: 4.1302, 371: 4.1206, 374: 4.1136, 375: 8.2271, 376: 37.0187, 377: 24.6637, 378: 8.2176, 379: 28.7564, 380: 20.5366, 381: 8.2066, 383: 8.2008, 385: 32.7945, 386: 24.5915, 387: 8.1928, 388: 8.1914, 390: 4.0917, 391: 28.6421, 392: 8.1713, 394: 40.8456, 395: 8.167, 396: 20.4068, 398: 20.4014, 399: 4.0792, 401: 40.7638, 402: 8.1478, 403: 138.4888, 405: 16.2675, 406: 4.0665, 408: 36.5955, 409: 4.0648, 410: 28.4435, 411: 4.063, 412: 16.22, 414: 4.0488, 416: 32.3793, 420: 40.3782, 421: 4.0375, 422: 36.3128, 423: 8.0634, 424: 12.0931, 426: 56.2882, 427: 12.0597, 428: 76.3657, 430: 52.1592, 431: 4.0106, 433: 4.0083, 434: 12.0099, 435: 116.0866, 436: 32.0186, 437: 4.0, 438: 23.9864, 439: 11.9912, 440: 7.9909, 441: 3.9925, 442: 11.9707, 443: 3.987, 444: 3.9818, 445: 23.887, 446: 11.9329, 448: 15.9041, 449: 7.9514, 450: 7.9482, 451: 23.8427, 452: 11.9175, 455: 35.7039, 456: 3.9655, 460: 31.6609, 463: 11.8531, 465: 15.7668, 466: 3.9389, 467: 3.9374, 468: 11.8112, 469: 7.8692, 470: 7.8649, 471: 11.7863, 472: 7.857, 473: 66.7426, 474: 3.9251, 475: 3.9209, 476: 54.8667, 477: 15.6714, 478: 11.7363, 479: 19.5531, 480: 3.9094, 482: 39.0254, 483: 7.7968, 484: 11.6907, 485: 35.0668, 487: 7.7832, 489: 11.6703, 491: 23.3336, 492: 3.8866, 493: 23.2967, 494: 11.644, 495: 27.1591, 496: 3.8796, 497: 19.3819, 498: 814.0419, 500: 3.8703, 502: 3.8654, 506: 3.86, 507: 57.8913, 508: 212.096, 509: 11.5587, 510: 7.7046, 511: 3.852, 512: 19.2291, 515: 7.6816, 516: 3.8408, 517: 3.8394, 518: 26.86, 520: 7.6726, 521: 7.6715, 522: 11.5064, 523: 7.671, 524: 3.8352, 528: 153.1858, 529: 34.4097, 530: 7.6444, 531: 57.3124, 532: 26.7343, 533: 3.8173, 535: 30.501, 536: 30.4641, 537: 15.2169, 539: 22.8044, 541: 15.1932, 542: 3.7972, 544: 11.3861, 546: 3.7924, 547: 34.1295, 549: 3.7858, 550: 22.7004, 552: 7.5652, 553: 22.6893, 554: 26.4653, 555: 7.5615, 556: 22.6593, 557: 26.423, 558: 7.5447, 559: 30.1476, 560: 124.1704, 561: 3.762, 562: 15.0479, 563: 33.8553, 564: 3.7604, 565: 18.7917, 566: 75.1412, 567: 97.6702, 569: 22.51, 570: 3.7478, 571: 29.9725, 572: 3.7466, 574: 3.7352, 575: 18.6445, 576: 7.4573, 577: 11.1777, 578: 3.7179, 579: 37.1794, 580: 3.716, 581: 48.2979, 582: 3.715, 583: 51.9751, 584: 3.7118, 585: 3.7113, 586: 37.1054, 587: 11.1316, 589: 11.1309, 591: 7.4172, 592: 7.4162, 593: 3.7074, 594: 7.4132, 595: 11.1059, 596: 36.9857, 597: 36.9857, 598: 3.6983, 599: 25.8832, 600: 3.6971, 601: 3.6945, 602: 7.3836, 603: 3.6894, 604: 18.4445, 605: 22.1262, 606: 3.6824, 607: 29.4252, 609: 29.4043, 611: 3.6751, 612: 220.4041, 613: 3.6727, 614: 33.033, 615: 21.9796, 616: 14.6465, 617: 14.6344, 618: 25.6004, 620: 29.2334, 621: 7.3014, 622: 7.2968, 623: 21.8792, 624: 7.2912, 625: 72.9124, 626: 18.2051, 627: 3.6374, 628: 7.2679, 630: 7.2597, 631: 7.2574, 634: 43.4177, 635: 3.6172, 636: 7.2309, 637: 18.0773, 638: 144.5824, 639: 3.6121, 640: 14.4431, 641: 3.6108, 642: 46.845, 644: 28.7802, 646: 7.1889, 647: 28.7277, 648: 7.1736, 649: 43.0341, 650: 3.5816, 651: 32.2327, 652: 14.3213, 653: 46.5107, 654: 35.7732, 655: 50.0734, 657: 3.5743, 658: 14.2947, 659: 32.1457, 661: 7.1388, 662: 42.8173, 663: 17.8289, 664: 3.5658, 665: 7.1269, 666: 7.1218, 667: 21.3476, 669: 10.6624, 670: 7.0791, 671: 3.534, 672: 28.2701, 673: 14.1318, 674: 7.056, 675: 10.5742, 677: 28.1119, 678: 14.0535, 679: 24.5937, 680: 14.0479, 681: 10.522, 682: 3.5029, 683: 45.5305, 684: 10.4987, 685: 24.4955, 686: 27.96, 687: 6.9848, 688: 34.8691, 690: 48.7098, 691: 3.4785, 692: 6.9457, 693: 3.4725, 694: 3.4698, 696: 6.9234, 697: 6.9176, 698: 20.746, 699: 13.8223, 700: 34.4988, 701: 154.9558, 702: 27.5372, 703: 58.5101, 706: 41.2249, 707: 10.3062, 708: 34.3205, 709: 30.8268, 710: 3.423, 711: 20.5015, 712: 6.8298, 713: 10.2425, 714: 10.2381, 715: 64.8312, 716: 17.0317, 717: 6.8087, 718: 13.6102, 719: 44.198, 720: 47.5099, 721: 16.9491, 722: 6.7764, 723: 10.1625, 724: 27.0943, 725: 3.3783, 726: 57.4189, 727: 23.6209, 728: 6.7457, 729: 10.1133, 730: 10.1075, 731: 6.7376, 733: 20.2045, 734: 23.5367, 735: 10.0845, 736: 47.0466, 737: 13.4219, 738: 3.3549, 739: 3.3544, 740: 10.0561, 741: 6.6969, 742: 6.6965, 744: 23.3817, 745: 13.3556, 746: 23.3474, 747: 6.667, 748: 6.6656, 750: 19.9817, 751: 26.6182, 752: 6.6515, 753: 23.2722, 754: 9.9508, 755: 6.6279, 756: 13.2539, 757: 49.697, 758: 19.805, 759: 6.5987, 760: 23.0864, 761: 13.1825, 762: 16.4643, 763: 39.5086, 764: 121.7942, 765: 42.7611, 766: 13.1527, 767: 151.1307, 769: 19.7069, 770: 6.5642, 771: 22.9199, 773: 71.9781, 774: 39.2399, 775: 16.3492, 776: 13.0736, 777: 16.3239, 778: 52.1888, 779: 26.0756, 780: 22.8008, 781: 9.7634, 782: 61.7255, 783: 48.719, 784: 12.9899, 785: 35.6882, 786: 16.2158, 787: 51.7579, 788: 25.8765, 789: 16.1652, 790: 22.6292, 791: 9.6909, 793: 100.1158, 794: 25.8266, 795: 19.3346, 796: 38.597, 797: 41.7706, 799: 19.2716, 800: 12.8287, 801: 6.412, 802: 3.2042, 803: 35.2397, 804: 12.8073, 805: 9.5944, 806: 6.3711, 807: 19.1003, 808: 22.2776, 809: 15.8686, 810: 34.9093, 811: 6.346, 812: 22.208, 813: 3.172, 814: 9.5078, 815: 9.5074, 817: 9.453, 818: 18.8976, 819: 3.1489, 820: 75.57, 821: 9.4421, 822: 28.301, 823: 37.6896, 824: 18.8365, 826: 90.7864, 827: 18.7488, 829: 352.4709, 830: 24.9125, 832: 24.7942, 833: 3.0864, 834: 27.7696, 835: 9.2463, 836: 49.2403, 837: 126.1355, 838: 12.2965, 839: 9.2201, 840: 33.8026, 841: 27.6007, 842: 21.4609, 843: 52.1062, 844: 3.0626, 845: 24.4866, 846: 58.1338, 847: 42.78, 848: 21.3864, 849: 9.145, 850: 12.1731, 851: 6.075, 852: 15.1793, 853: 15.165, 855: 21.2083, 856: 30.2901, 858: 36.3332, 859: 15.1227, 860: 24.1825, 861: 18.1081, 862: 3.0147, 863: 12.0583, 864: 15.0576, 865: 12.0368, 866: 11.9888, 867: 35.9419, 869: 14.9608, 870: 2.9843, 871: 11.9333, 872: 35.7872, 873: 65.5656, 874: 32.7024, 875: 20.7786, 876: 14.8401, 877: 23.7273, 878: 50.3651, 879: 41.4235, 880: 26.5836, 881: 23.6124, 882: 5.8775, 884: 5.8567, 885: 2.9277, 886: 32.1922, 887: 14.5954, 888: 58.2129, 890: 40.7058, 891: 63.901, 892: 46.4682, 894: 23.1642, 895: 57.8714, 896: 22.9445, 897: 45.8704, 898: 22.8762, 901: 8.5206, 902: 5.6796, 903: 8.5135, 905: 8.4532, 906: 16.8158, 907: 72.6684, 908: 55.8909, 910: 30.6914, 911: 8.3648, 912: 44.4816, 913: 38.8672, 914: 49.8924, 915: 55.3842, 916: 19.3784, 917: 8.3033, 918: 8.2904, 919: 146.2777, 920: 13.7865, 921: 22.0569, 922: 11.0197, 923: 283.6513, 924: 22.0063, 925: 16.4974, 926: 10.9922, 927: 2.741, 928: 101.3533, 929: 13.6741, 930: 19.1347, 931: 62.6805, 932: 2.7231, 933: 48.9309, 934: 16.2591, 935: 35.1415, 936: 62.0952, 937: 61.9741, 938: 40.4152, 939: 10.7671, 940: 32.1521, 941: 18.6719, 942: 7.9942, 943: 5.3208, 944: 5.3154, 945: 47.4293, 946: 763.2826, 947: 20.9493, 948: 28.6872, 949: 192.9502, 950: 2.5987, 951: 72.6362, 952: 10.3654, 953: 59.575, 954: 7.7489, 955: 33.534, 956: 59.1278, 957: 74.4137, 958: 7.69, 959: 40.6407, 960: 12.6865, 961: 20.2608, 962: 70.6473, 963: 55.5069, 964: 206.2529, 965: 27.6623, 966: 12.529, 967: 5.0104, 968: 39.958, 969: 9.9796, 970: 9.9019, 971: 68.7158, 972: 63.7748, 973: 14.706, 974: 34.2963, 975: 12.1494, 976: 216.144, 977: 21.8419, 978: 67.8234, 979: 70.1084, 980: 4.8185, 981: 23.9896, 982: 52.3231, 983: 47.4398, 984: 97.241, 985: 243.5546, 986: 23.6071, 987: 7.0669, 988: 30.5977, 989: 95.7551, 990: 13.968, 991: 34.8969, 992: 60.2601, 993: 46.3429, 994: 142.9002, 995: 50.4784, 996: 13.6805, 997: 81.9987, 998: 11.3758, 999: 29.5293}))]"
      ]
     },
     "execution_count": 16,
     "metadata": {},
     "output_type": "execute_result"
    }
   ],
   "source": [
    "df_userprofile_tfidf.take(1)"
   ]
  },
  {
   "cell_type": "code",
   "execution_count": 17,
   "id": "94dd3584",
   "metadata": {},
   "outputs": [],
   "source": [
    "#2  LDA-based profiles for each user as the summation of the paper-topics vectors of the papers \n",
    "\n",
    "df_userJoined_LDA = df_userLibrary_explode.join(df_lda_paper_topic_model,df_userLibrary_explode.paper_id == df_lda_paper_topic_model.id, how=\"inner\").select(df_userLibrary_explode.user_hash_id,df_userLibrary_explode.paper_id,df_lda_paper_topic_model.topicDistribution)"
   ]
  },
  {
   "cell_type": "code",
   "execution_count": 18,
   "id": "0f0fb43b",
   "metadata": {},
   "outputs": [],
   "source": [
    "#function to add 2 LDA dense vectors\n",
    "def addLDAPaperTopicVectors(v1,v2):\n",
    "    return (v1+v2)\n",
    "    \n",
    "df_userprofile_lda = df_userJoined_LDA.selectExpr(\"user_hash_id\",\"topicDistribution\").rdd.reduceByKey(lambda x,y: addLDAPaperTopicVectors(x,y)).toDF().selectExpr(\"_1 AS user_hash_id\",\"_2 AS sum_lda_vector\")"
   ]
  },
  {
   "cell_type": "code",
   "execution_count": 19,
   "id": "c13320a9",
   "metadata": {},
   "outputs": [
    {
     "data": {
      "text/plain": [
       "[Row(user_hash_id='6931f7f79678cf72aae416ff7cb43bb1', sum_lda_vector=DenseVector([0.1391, 1.7382, 0.3115, 0.2975, 0.5515, 0.2997, 0.5655, 0.1219, 4.5555, 0.1737, 0.2066, 9.4012, 0.3132, 4.2154, 1.0348, 0.2011, 0.386, 0.4549, 6.7044, 0.2093, 0.5311, 0.232, 0.9089, 0.5781, 0.1228, 0.1498, 4.3661, 0.3744, 1.9279, 9.1491, 0.1199, 0.1232, 0.9832, 0.6777, 0.1578, 0.4714, 0.1201, 14.4807, 0.28, 0.3647]))]"
      ]
     },
     "execution_count": 19,
     "metadata": {},
     "output_type": "execute_result"
    }
   ],
   "source": [
    "df_userprofile_lda.take(1)"
   ]
  },
  {
   "cell_type": "code",
   "execution_count": 20,
   "id": "e6f4c9a5",
   "metadata": {},
   "outputs": [],
   "source": [
    "#Ex 3.5 \n",
    "# 1: Randomly selects n users\n",
    "fraction_of_users = 0.5\n",
    "df_sampleUsers = df_userLibrary.sample(withReplacement=False, fraction=fraction_of_users)\n"
   ]
  },
  {
   "cell_type": "code",
   "execution_count": 21,
   "id": "0c68f765",
   "metadata": {},
   "outputs": [
    {
     "name": "stdout",
     "output_type": "stream",
     "text": [
      "+--------------------+--------------------+\n",
      "|        user_hash_id|        user_library|\n",
      "+--------------------+--------------------+\n",
      "|d1d41a15201915503...|[6610569, 6493797...|\n",
      "|f2f77383828ea6d39...|[943458, 238121, ...|\n",
      "|9c883d02115400f7b...|[3509971, 3509965...|\n",
      "|cf9c7f356092c34be...|             [90558]|\n",
      "|0f5cbb39410a9278f...|           [9344598]|\n",
      "|d85f7d83f27b3f533...|[7610843, 3633347...|\n",
      "|586c867a0688250ac...|[464760, 466011, ...|\n",
      "|589b870a611c25fa9...|[1283233, 1305474...|\n",
      "|90f1a3e6fcdbf9bc5...|[115945, 11733005...|\n",
      "|3b715ebaf1f8f81a1...|[4119394, 3378798...|\n",
      "|0ad6516296d95068c...|[2734645, 1218426...|\n",
      "|26b170a77a1a910b3...|[666773, 299199, ...|\n",
      "|ed571b13a83199c9c...|[11056916, 12799962]|\n",
      "|e17a1c14ffca94104...|[607999, 758852, ...|\n",
      "|7c3219ff9046172ce...|[1089965, 1089982...|\n",
      "|8a1d54402eddebee0...|[3408594, 3408584...|\n",
      "|51656fa1c9a7e0412...|[927126, 967059, ...|\n",
      "|bbcd9dae3160ddcb9...|[898519, 6929229,...|\n",
      "|0fe2197fba44d2f76...|[2679179, 3251044...|\n",
      "|8d29b0f1541d8b46a...|[2324796, 4235745...|\n",
      "+--------------------+--------------------+\n",
      "only showing top 20 rows\n",
      "\n"
     ]
    }
   ],
   "source": [
    "df_sampleUsers.show()"
   ]
  },
  {
   "cell_type": "code",
   "execution_count": 22,
   "id": "0a88b535",
   "metadata": {},
   "outputs": [],
   "source": [
    "#Ex3.5\n",
    "#2 Divide sampled data into raining set and test set for each user\n",
    "import math\n",
    "import random\n",
    "\n",
    "def divideList(masterList,trainingSetFraction):\n",
    "    size_masterList = len(masterList)\n",
    "    size_TrainingList = int(math.ceil(trainingSetFraction * size_masterList))\n",
    "    trainingList = masterList[:size_TrainingList]\n",
    "    testList = masterList[size_TrainingList:]\n",
    "    return [trainingList,testList]\n",
    "\n",
    "df_divide_train_test_data = df_sampleUsers.rdd.map(lambda x: (x[0],divideList(x[1],0.8))).toDF()\n",
    "df_divide_train_test_data = df_divide_train_test_data.select(df_divide_train_test_data._1.alias(\"user_hash_id\"),df_divide_train_test_data._2[0].alias(\"training_data\"),df_divide_train_test_data._2[1].alias(\"test_data\"))\n",
    "\n",
    "df_training_data = df_divide_train_test_data.selectExpr(\"user_hash_id\",\"training_data\")\n",
    "df_test_data = df_divide_train_test_data.selectExpr(\"user_hash_id\",\"test_data\")\n"
   ]
  },
  {
   "cell_type": "code",
   "execution_count": 23,
   "id": "fbcf314b",
   "metadata": {},
   "outputs": [
    {
     "name": "stdout",
     "output_type": "stream",
     "text": [
      "+--------------------+--------------------+\n",
      "|        user_hash_id|       training_data|\n",
      "+--------------------+--------------------+\n",
      "|d1d41a15201915503...|[6610569, 6493797...|\n",
      "|f2f77383828ea6d39...|[943458, 238121, ...|\n",
      "|9c883d02115400f7b...|[3509971, 3509965...|\n",
      "|cf9c7f356092c34be...|             [90558]|\n",
      "|0f5cbb39410a9278f...|           [9344598]|\n",
      "|d85f7d83f27b3f533...|[7610843, 3633347...|\n",
      "|586c867a0688250ac...|[464760, 466011, ...|\n",
      "|589b870a611c25fa9...|[1283233, 1305474...|\n",
      "|90f1a3e6fcdbf9bc5...|[115945, 11733005...|\n",
      "|3b715ebaf1f8f81a1...|[4119394, 3378798...|\n",
      "|0ad6516296d95068c...|[2734645, 1218426...|\n",
      "|26b170a77a1a910b3...|[666773, 299199, ...|\n",
      "|ed571b13a83199c9c...|[11056916, 12799962]|\n",
      "|e17a1c14ffca94104...|[607999, 758852, ...|\n",
      "|7c3219ff9046172ce...|[1089965, 1089982...|\n",
      "|8a1d54402eddebee0...|[3408594, 3408584...|\n",
      "|51656fa1c9a7e0412...|[927126, 967059, ...|\n",
      "|bbcd9dae3160ddcb9...|[898519, 6929229,...|\n",
      "|0fe2197fba44d2f76...|[2679179, 3251044...|\n",
      "|8d29b0f1541d8b46a...|[2324796, 4235745...|\n",
      "+--------------------+--------------------+\n",
      "only showing top 20 rows\n",
      "\n"
     ]
    }
   ],
   "source": [
    "df_training_data.show()"
   ]
  },
  {
   "cell_type": "code",
   "execution_count": 24,
   "id": "eba64c25",
   "metadata": {},
   "outputs": [
    {
     "name": "stdout",
     "output_type": "stream",
     "text": [
      "+--------------------+--------------------+\n",
      "|        user_hash_id|           test_data|\n",
      "+--------------------+--------------------+\n",
      "|d1d41a15201915503...|[7465494, 7329626...|\n",
      "|f2f77383828ea6d39...|                  []|\n",
      "|9c883d02115400f7b...|           [3878624]|\n",
      "|cf9c7f356092c34be...|                  []|\n",
      "|0f5cbb39410a9278f...|                  []|\n",
      "|d85f7d83f27b3f533...|[3585, 1458475, 1...|\n",
      "|586c867a0688250ac...|                  []|\n",
      "|589b870a611c25fa9...|            [967275]|\n",
      "|90f1a3e6fcdbf9bc5...|           [8310458]|\n",
      "|3b715ebaf1f8f81a1...|[3399487, 3150261...|\n",
      "|0ad6516296d95068c...|   [179911, 1127804]|\n",
      "|26b170a77a1a910b3...|                  []|\n",
      "|ed571b13a83199c9c...|                  []|\n",
      "|e17a1c14ffca94104...|                  []|\n",
      "|7c3219ff9046172ce...|[2301235, 1089946...|\n",
      "|8a1d54402eddebee0...|                  []|\n",
      "|51656fa1c9a7e0412...|[1118827, 5923518...|\n",
      "|bbcd9dae3160ddcb9...|  [7151534, 3463357]|\n",
      "|0fe2197fba44d2f76...|           [2868588]|\n",
      "|8d29b0f1541d8b46a...|           [1076912]|\n",
      "+--------------------+--------------------+\n",
      "only showing top 20 rows\n",
      "\n"
     ]
    }
   ],
   "source": [
    "df_test_data.show()"
   ]
  },
  {
   "cell_type": "code",
   "execution_count": 25,
   "id": "0585540c",
   "metadata": {},
   "outputs": [],
   "source": [
    "#Ex 3.5\n",
    "\n",
    "#Creating User profiles for Training data set\n",
    "df_training_data_explode = df_training_data.selectExpr(\"user_hash_id\",\"explode(training_data) AS training_data_paper_id\")\n",
    "\n",
    "#a- user profile using sampled users data over Tf-Idf vector\n",
    "\n",
    "df_training_data_TfIdf = df_training_data_explode.join(df_rescaledCleanedData,df_training_data_explode.training_data_paper_id == df_rescaledCleanedData.paper_id, how=\"inner\").select(df_training_data_explode.user_hash_id,df_training_data_explode.training_data_paper_id,df_rescaledCleanedData.tf_idf_vector)\n",
    "df_training_data_userprofile_tfidf = df_training_data_TfIdf.selectExpr(\"user_hash_id\",\"tf_idf_vector\").rdd.reduceByKey(lambda x,y: addSparseVectors(x,y)).toDF().selectExpr(\"_1 AS user_hash_id\",\"_2 AS sum_tf_idf_vector\")"
   ]
  },
  {
   "cell_type": "code",
   "execution_count": 26,
   "id": "3930cad6",
   "metadata": {},
   "outputs": [
    {
     "data": {
      "text/plain": [
       "[Row(user_hash_id='f0fe2969ce44deace9595fabd7c12bdf', sum_tf_idf_vector=SparseVector(1000, {1: 9.3148, 2: 23.2806, 8: 4.6505, 9: 9.3009, 10: 9.2996, 11: 46.4919, 12: 4.6486, 13: 46.4668, 14: 18.5842, 15: 9.2896, 16: 23.2209, 17: 4.6379, 18: 4.6367, 20: 4.633, 21: 23.1557, 22: 9.261, 23: 4.6299, 24: 18.5196, 27: 4.6281, 28: 4.6268, 30: 46.2438, 31: 9.2475, 32: 9.2378, 33: 18.4585, 34: 18.4512, 35: 4.6122, 37: 9.2171, 38: 4.6086, 40: 46.0556, 41: 4.6044, 42: 9.2087, 44: 4.602, 45: 41.4069, 47: 18.3839, 48: 4.596, 49: 50.5297, 50: 9.1825, 51: 4.5912, 53: 4.5889, 54: 18.3531, 55: 18.3413, 56: 59.5786, 57: 9.1601, 58: 9.1589, 59: 13.7348, 60: 13.7331, 61: 9.1519, 62: 9.1495, 64: 4.5719, 65: 9.1414, 66: 13.7069, 68: 13.693, 69: 4.562, 71: 4.5574, 72: 18.2228, 73: 18.2137, 76: 4.5517, 78: 22.75, 80: 4.5494, 81: 4.5489, 82: 31.8381, 83: 4.5477, 85: 54.5524, 87: 4.5415, 88: 27.2491, 89: 9.0819, 92: 9.0796, 95: 4.5353, 96: 4.5331, 99: 13.5959, 102: 31.6692, 103: 4.5236, 104: 9.0472, 105: 9.045, 106: 9.0428, 108: 27.1086, 110: 40.6381, 111: 9.0296, 113: 36.1184, 114: 31.5844, 118: 22.5521, 119: 22.5493, 120: 22.5466, 121: 4.5071, 122: 18.0264, 123: 18.0177, 124: 13.51, 127: 4.5012, 129: 22.4734, 130: 4.4941, 134: 13.4679, 135: 35.9145, 138: 85.2462, 139: 8.9712, 141: 13.4424, 142: 13.4424, 143: 4.4803, 147: 134.2648, 148: 13.4217, 149: 4.4681, 151: 4.4666, 152: 17.8641, 154: 13.3871, 155: 17.8433, 156: 8.9196, 158: 4.4556, 159: 8.9113, 161: 17.8039, 162: 4.45, 163: 22.2446, 164: 17.7875, 165: 4.4458, 166: 17.7793, 167: 8.8886, 168: 4.4443, 169: 4.4423, 170: 93.266, 173: 8.8774, 177: 4.4316, 179: 4.4301, 180: 53.1549, 181: 8.8551, 183: 8.8551, 184: 22.1328, 186: 4.425, 187: 13.2736, 188: 39.8164, 189: 17.6942, 190: 4.419, 191: 8.8311, 194: 8.8212, 195: 4.4106, 197: 8.8143, 198: 22.0307, 199: 8.8084, 200: 35.2256, 201: 17.5991, 203: 4.3983, 205: 4.3963, 206: 21.9695, 207: 4.3886, 208: 8.7723, 209: 17.5427, 210: 4.3828, 211: 4.3823, 213: 56.8764, 214: 8.7359, 215: 4.3661, 218: 4.3632, 219: 4.3614, 220: 4.3599, 222: 8.7152, 225: 4.3548, 226: 8.7086, 228: 313.0406, 229: 8.6891, 230: 21.7134, 231: 13.0115, 232: 17.3468, 233: 17.3431, 234: 8.667, 235: 8.6651, 236: 4.3307, 237: 8.6578, 238: 8.6569, 240: 12.9813, 241: 34.6131, 242: 4.3262, 243: 125.4461, 245: 8.6496, 246: 17.2811, 247: 34.5551, 248: 4.3185, 249: 8.6352, 251: 47.4735, 255: 8.628, 256: 8.6217, 257: 56.006, 258: 12.9218, 259: 12.9151, 260: 17.2112, 261: 47.326, 262: 8.603, 263: 12.8872, 265: 47.2142, 267: 8.5721, 268: 21.4151, 269: 17.1303, 270: 8.5643, 272: 12.8425, 273: 47.0701, 274: 12.8347, 275: 38.5041, 276: 8.5556, 277: 12.8334, 278: 51.3129, 279: 8.5452, 280: 8.5444, 281: 42.7046, 282: 89.6707, 284: 25.6125, 285: 38.411, 286: 21.3373, 287: 51.1479, 288: 4.2589, 289: 8.5161, 290: 12.7729, 291: 17.0086, 292: 21.2354, 293: 12.7312, 294: 16.9682, 295: 4.2408, 296: 25.4448, 298: 4.2371, 299: 29.6535, 300: 67.7662, 302: 8.4633, 303: 21.1541, 304: 4.2288, 306: 8.4534, 307: 4.2255, 308: 118.3017, 309: 16.8887, 310: 8.4386, 311: 16.8724, 312: 33.7415, 313: 8.4337, 316: 21.0417, 317: 8.4094, 319: 4.1983, 321: 25.1658, 322: 20.9695, 323: 33.5385, 324: 12.5674, 325: 12.5674, 327: 4.1868, 328: 4.1868, 329: 25.1134, 330: 41.8557, 331: 29.299, 333: 12.5508, 336: 12.5402, 337: 91.9266, 340: 33.3498, 342: 20.8165, 343: 308.0555, 344: 8.3243, 345: 4.161, 347: 20.7972, 350: 49.8995, 351: 12.4737, 353: 8.3081, 354: 4.1522, 355: 16.604, 356: 53.9582, 357: 49.7892, 358: 20.7417, 359: 62.1966, 360: 12.437, 362: 12.4359, 363: 12.4177, 365: 16.5419, 366: 24.7926, 368: 8.2605, 369: 4.1302, 370: 12.3684, 371: 37.0851, 372: 20.5806, 373: 28.8, 374: 12.3407, 376: 8.2264, 377: 8.2212, 378: 24.6527, 379: 36.9725, 380: 8.2146, 381: 24.6199, 382: 24.6046, 383: 12.3012, 384: 28.7003, 385: 40.9932, 386: 8.1972, 387: 28.6749, 388: 16.3828, 389: 20.4623, 390: 4.0917, 391: 8.1835, 392: 32.6851, 393: 36.7643, 395: 12.2505, 396: 16.3254, 397: 12.2441, 398: 12.2409, 399: 48.9507, 401: 12.2292, 402: 12.2217, 404: 28.5124, 405: 12.2006, 406: 32.5321, 408: 36.5955, 409: 8.1295, 410: 20.3168, 411: 20.3151, 412: 4.055, 413: 24.3238, 414: 12.1464, 415: 24.2906, 417: 36.4205, 419: 64.7035, 420: 24.2269, 421: 28.2623, 422: 20.1738, 423: 16.1268, 424: 4.031, 425: 4.0256, 426: 12.0618, 427: 16.0797, 428: 16.077, 429: 12.0367, 430: 4.0122, 431: 4.0106, 432: 48.123, 433: 36.0744, 434: 20.0166, 435: 12.009, 436: 20.0116, 437: 56.0004, 438: 3.9977, 440: 27.9681, 441: 35.9326, 442: 11.9707, 443: 19.9349, 444: 27.8727, 446: 23.8658, 448: 3.976, 450: 67.5599, 451: 23.8427, 452: 11.9175, 453: 23.8274, 454: 43.6416, 455: 15.8684, 456: 11.8965, 457: 11.8927, 458: 150.5692, 459: 31.6937, 460: 23.7457, 461: 110.7253, 463: 11.8531, 467: 23.6243, 468: 31.4966, 469: 369.853, 470: 55.0544, 471: 7.8576, 472: 11.7854, 474: 23.5507, 475: 3.9209, 476: 23.5143, 477: 27.4249, 478: 15.6485, 479: 19.5531, 480: 7.8188, 481: 15.6161, 482: 3.9025, 483: 27.2887, 484: 7.7938, 485: 11.6889, 486: 23.3566, 487: 7.7832, 488: 27.237, 489: 27.2308, 490: 27.2246, 491: 31.1115, 492: 15.5464, 493: 3.8828, 494: 15.5253, 495: 11.6396, 496: 23.2775, 497: 15.5056, 499: 42.618, 500: 3.8703, 501: 89.0041, 502: 7.7309, 503: 204.8374, 504: 15.456, 505: 73.3724, 506: 173.6997, 507: 30.8754, 508: 3.8563, 509: 26.9702, 510: 46.2278, 511: 34.6683, 512: 23.075, 514: 23.0514, 515: 19.2039, 517: 11.5181, 518: 15.3486, 519: 118.9256, 520: 23.0179, 521: 23.0145, 522: 19.1774, 523: 3.8355, 524: 7.6704, 525: 15.3397, 526: 65.1511, 527: 15.3286, 528: 15.3186, 529: 11.4699, 530: 19.111, 531: 7.6417, 533: 26.7209, 534: 87.7156, 535: 11.4379, 536: 11.424, 537: 15.2169, 538: 7.602, 540: 98.784, 541: 7.5966, 542: 7.5945, 543: 7.5929, 544: 7.5907, 545: 98.6726, 546: 22.7546, 547: 30.3373, 548: 37.8684, 549: 7.5716, 550: 7.5668, 551: 196.7095, 552: 18.9131, 554: 18.9038, 555: 18.9038, 556: 30.2124, 557: 11.3242, 558: 7.5447, 559: 33.9161, 560: 18.8137, 561: 18.8098, 562: 7.5239, 563: 11.2851, 564: 48.8854, 565: 3.7583, 567: 26.2958, 568: 67.6086, 569: 30.0134, 570: 11.2435, 571: 3.7466, 572: 18.7328, 573: 26.1497, 574: 14.9407, 575: 82.0356, 577: 11.1777, 578: 18.5897, 579: 29.7435, 580: 3.716, 582: 14.8599, 584: 22.2706, 585: 48.2466, 586: 3.7105, 587: 33.3949, 588: 63.0792, 589: 33.3927, 590: 14.8382, 591: 37.0858, 592: 7.4162, 593: 211.3191, 594: 37.0662, 595: 18.5099, 597: 22.1914, 598: 110.9499, 599: 55.464, 600: 40.6683, 601: 3.6945, 602: 40.6098, 603: 3.6894, 604: 7.3778, 605: 25.814, 606: 47.8717, 607: 106.6663, 608: 29.4081, 609: 25.7287, 610: 14.7012, 611: 62.476, 613: 14.6908, 614: 11.011, 615: 3.6633, 616: 113.5107, 617: 14.6344, 618: 21.9432, 619: 18.2755, 620: 62.121, 621: 21.9042, 622: 40.1322, 623: 25.5258, 624: 14.5825, 625: 7.2912, 626: 3.641, 627: 14.5495, 628: 21.8037, 629: 10.8943, 630: 36.2986, 631: 7.2574, 632: 7.2511, 633: 3.6253, 634: 32.5633, 635: 3.6172, 636: 36.1545, 637: 18.0773, 638: 14.4582, 639: 10.8363, 640: 39.7185, 641: 18.0539, 642: 36.0346, 643: 39.5824, 644: 17.9876, 645: 7.1933, 646: 3.5945, 647: 14.3638, 648: 35.8682, 649: 68.1373, 650: 35.8163, 651: 21.4885, 652: 17.9017, 654: 10.732, 656: 46.466, 657: 64.3376, 658: 28.5893, 659: 39.2892, 660: 42.8455, 661: 28.5551, 663: 24.9604, 664: 24.9604, 665: 39.1978, 666: 24.9263, 667: 32.0214, 668: 39.1211, 669: 71.0829, 670: 24.7768, 671: 42.4076, 672: 31.8039, 673: 31.7965, 674: 21.1681, 675: 21.1485, 676: 119.7859, 677: 3.514, 678: 10.5402, 679: 17.5669, 680: 28.0958, 681: 3.5073, 682: 45.5383, 683: 14.0094, 684: 66.4916, 685: 20.9962, 686: 3.495, 687: 38.4166, 688: 17.4345, 689: 31.3698, 690: 20.8756, 691: 10.4355, 692: 24.31, 693: 20.8348, 694: 79.8046, 695: 45.0393, 696: 20.7701, 697: 6.9176, 698: 10.373, 699: 27.6446, 700: 24.1492, 701: 6.8869, 702: 51.6322, 703: 48.1848, 704: 20.6371, 705: 37.8327, 706: 85.8852, 707: 61.8373, 708: 13.7282, 709: 71.9291, 710: 6.846, 711: 17.0846, 712: 23.9043, 713: 17.0709, 714: 23.889, 715: 61.419, 716: 30.6571, 717: 47.661, 718: 54.4408, 719: 3.3998, 720: 78.0519, 721: 16.9491, 722: 47.4349, 723: 13.55, 724: 3.3868, 725: 118.2401, 726: 13.5103, 727: 20.2465, 728: 37.1013, 729: 23.5976, 730: 97.7058, 731: 43.7946, 732: 43.7765, 733: 40.4091, 734: 40.3485, 735: 53.7842, 736: 26.8838, 737: 20.1328, 738: 10.0648, 739: 67.0886, 740: 20.1122, 741: 40.1811, 742: 16.7413, 743: 43.5207, 744: 33.4025, 745: 150.2502, 746: 26.6827, 747: 16.6674, 748: 23.3297, 749: 23.3156, 750: 3.3303, 751: 16.6363, 752: 3.3258, 753: 23.2722, 754: 19.9016, 755: 463.9545, 756: 3.3135, 757: 9.9394, 758: 26.4066, 759: 39.5923, 760: 89.0475, 761: 32.9562, 762: 36.2215, 763: 29.6314, 764: 9.8752, 765: 23.0252, 766: 26.3055, 767: 3.2855, 768: 19.7098, 769: 45.9828, 770: 16.4104, 771: 26.1942, 772: 3.2719, 773: 29.4456, 774: 49.0499, 775: 26.1587, 776: 13.0736, 777: 26.1183, 778: 6.5236, 779: 19.5567, 780: 26.0581, 781: 26.0356, 782: 35.7358, 783: 3.2479, 784: 120.1565, 785: 16.2219, 786: 35.6747, 787: 22.6441, 788: 19.4074, 789: 25.8643, 790: 22.6292, 791: 83.9878, 792: 22.61, 794: 29.0549, 795: 48.3364, 796: 12.8657, 797: 12.8525, 798: 151.0027, 799: 44.967, 800: 32.0716, 801: 44.8837, 802: 48.063, 803: 16.018, 804: 32.0183, 805: 31.9814, 806: 38.2268, 807: 28.6505, 808: 25.4601, 809: 25.3897, 810: 41.2565, 811: 57.114, 812: 25.3806, 813: 15.86, 814: 57.0469, 815: 28.5222, 816: 31.531, 817: 37.8119, 818: 28.3463, 819: 469.1849, 820: 50.38, 821: 28.3262, 822: 22.0119, 824: 25.1153, 825: 414.1275, 827: 9.3744, 828: 40.5621, 829: 112.2916, 830: 24.9125, 831: 68.3905, 832: 18.5957, 833: 24.6914, 834: 52.4537, 835: 33.9031, 836: 15.3876, 837: 12.3059, 838: 24.5931, 839: 27.6602, 840: 21.5107, 841: 21.4672, 842: 27.5926, 843: 33.7158, 844: 21.4384, 845: 27.5475, 846: 52.0145, 847: 24.4457, 848: 54.9936, 849: 48.7734, 850: 27.3895, 851: 124.5374, 852: 33.3946, 853: 48.5279, 854: 118.2041, 855: 3.0298, 856: 33.3191, 857: 21.1952, 858: 21.1944, 859: 57.4664, 860: 33.251, 861: 21.1261, 862: 21.1029, 863: 60.2914, 864: 21.0806, 865: 117.3587, 866: 35.9665, 867: 14.9758, 868: 29.9492, 869: 47.8746, 870: 26.8586, 871: 38.7834, 872: 50.6986, 874: 20.8106, 875: 20.7786, 876: 59.3604, 877: 59.3183, 878: 71.1037, 879: 150.9, 880: 32.4911, 881: 35.4186, 882: 67.5913, 883: 29.3196, 884: 40.997, 885: 26.3492, 886: 32.1922, 887: 20.4335, 888: 23.2852, 889: 69.8131, 890: 29.0756, 891: 14.523, 892: 5.8085, 893: 55.0212, 894: 28.9552, 895: 92.5942, 896: 91.778, 897: 108.9422, 898: 94.3645, 899: 22.8678, 900: 51.3905, 901: 73.8453, 902: 31.2377, 903: 39.7298, 904: 329.7554, 905: 247.9592, 906: 44.8422, 907: 27.9494, 908: 27.9455, 909: 83.7157, 910: 33.4816, 911: 41.8241, 912: 55.602, 913: 44.4197, 914: 38.8052, 915: 33.2305, 916: 41.5252, 917: 49.8199, 918: 71.8504, 919: 52.4392, 920: 66.1752, 921: 60.6564, 922: 52.3438, 924: 11.0031, 925: 27.4956, 926: 30.2287, 927: 32.8926, 928: 87.6569, 929: 98.4536, 930: 43.7364, 931: 38.1533, 932: 51.7395, 933: 51.6493, 934: 35.2281, 935: 18.9224, 936: 53.9958, 937: 13.4726, 938: 24.2491, 939: 29.6095, 940: 56.2662, 941: 13.3371, 942: 87.9362, 943: 37.2459, 944: 69.0996, 945: 10.5398, 946: 2.623, 947: 34.0427, 948: 31.2951, 949: 7.8223, 950: 189.7086, 951: 15.5649, 952: 59.6008, 953: 28.4924, 954: 54.242, 955: 15.4772, 956: 28.2785, 957: 30.7919, 958: 76.9, 959: 35.5606, 960: 65.97, 961: 45.5869, 962: 17.6618, 963: 55.5069, 964: 128.2793, 965: 20.1181, 966: 52.6219, 967: 22.547, 968: 47.4501, 969: 69.857, 970: 89.1174, 971: 31.9037, 973: 134.8046, 974: 58.7937, 975: 131.2135, 976: 89.8576, 977: 67.9527, 978: 29.0672, 979: 70.1084, 980: 130.1007, 981: 47.9792, 982: 26.1616, 983: 47.4398, 984: 71.152, 986: 47.2143, 987: 65.9577, 988: 75.3174, 989: 28.0259, 990: 60.528, 991: 90.732, 992: 53.307, 993: 57.9287, 994: 55.3162, 995: 57.3618, 996: 47.8819, 997: 40.9993, 998: 79.6307, 999: 49.9727}))]"
      ]
     },
     "execution_count": 26,
     "metadata": {},
     "output_type": "execute_result"
    }
   ],
   "source": [
    "df_training_data_userprofile_tfidf.take(1)"
   ]
  },
  {
   "cell_type": "code",
   "execution_count": 27,
   "id": "7db90026",
   "metadata": {},
   "outputs": [],
   "source": [
    "#b)- User profile using sampled users data over LDA vector\n",
    "\n",
    "df_training_data_LDA = df_training_data_explode.join(df_lda_paper_topic_model,df_training_data_explode.training_data_paper_id == df_lda_paper_topic_model.id, how=\"inner\").select(df_training_data_explode.user_hash_id,df_training_data_explode.training_data_paper_id,df_lda_paper_topic_model.topicDistribution)\n",
    "def addLDAPaperTopicVectors(v1,v2):\n",
    "    return (v1+v2)\n",
    "    \n",
    "df_training_data_userprofile_lda = df_training_data_LDA.selectExpr(\"user_hash_id\",\"topicDistribution\").rdd.reduceByKey(lambda x,y: addLDAPaperTopicVectors(x,y)).toDF().selectExpr(\"_1 AS user_hash_id\",\"_2 AS sum_lda_vector\")"
   ]
  },
  {
   "cell_type": "code",
   "execution_count": 28,
   "id": "6f880f93",
   "metadata": {},
   "outputs": [
    {
     "data": {
      "text/plain": [
       "[Row(user_hash_id='f0fe2969ce44deace9595fabd7c12bdf', sum_lda_vector=DenseVector([8.2345, 8.2489, 5.7265, 4.4824, 3.654, 2.924, 3.2137, 12.2184, 2.3684, 8.9382, 9.0248, 1.6631, 23.8189, 5.6961, 1.843, 17.5763, 2.4335, 7.6437, 5.256, 3.4809, 28.3198, 5.2124, 3.634, 3.107, 8.8775, 35.1362, 2.7627, 4.9445, 5.115, 2.829, 20.41, 26.3352, 3.1768, 4.9443, 2.825, 6.6206, 12.1022, 1.5842, 24.7411, 3.8774]))]"
      ]
     },
     "execution_count": 28,
     "metadata": {},
     "output_type": "execute_result"
    }
   ],
   "source": [
    "df_training_data_userprofile_lda.take(1)"
   ]
  },
  {
   "cell_type": "code",
   "execution_count": null,
   "id": "1c840f17",
   "metadata": {},
   "outputs": [],
   "source": []
  }
 ],
 "metadata": {
  "kernelspec": {
   "display_name": "Python 3",
   "language": "python",
   "name": "python3"
  },
  "language_info": {
   "codemirror_mode": {
    "name": "ipython",
    "version": 3
   },
   "file_extension": ".py",
   "mimetype": "text/x-python",
   "name": "python",
   "nbconvert_exporter": "python",
   "pygments_lexer": "ipython3",
   "version": "3.9.4"
  }
 },
 "nbformat": 4,
 "nbformat_minor": 5
}
