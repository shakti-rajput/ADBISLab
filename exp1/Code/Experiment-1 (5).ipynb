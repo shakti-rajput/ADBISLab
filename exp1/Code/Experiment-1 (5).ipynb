{
 "cells": [
  {
   "cell_type": "code",
   "execution_count": 1,
   "id": "d3de4748",
   "metadata": {},
   "outputs": [],
   "source": [
    "from pyspark import SparkContext,SparkConf\n",
    "from pyspark.sql import SparkSession\n",
    "import csv\n",
    "from collections import Counter"
   ]
  },
  {
   "cell_type": "code",
   "execution_count": 2,
   "id": "1fd1d87c",
   "metadata": {},
   "outputs": [],
   "source": [
    "sc = SparkContext()\n",
    "spark = SparkSession.builder.appName('Experiment1').getOrCreate()"
   ]
  },
  {
   "cell_type": "code",
   "execution_count": 3,
   "id": "4252a37a",
   "metadata": {},
   "outputs": [],
   "source": [
    "userLibraryRdd = sc.textFile(\"Datasets/users_libraries.txt\")\n",
    "userLibraryRdd = userLibraryRdd.map(lambda line: line.split(\";\")).map(lambda line: (line[0],list(map(int,line[1].split(\",\")))))"
   ]
  },
  {
   "cell_type": "code",
   "execution_count": 22,
   "id": "b7df967b",
   "metadata": {},
   "outputs": [],
   "source": [
    "def processPaperCsv(line):\n",
    "    paperCsv = csv.reader([line.replace(\"\\0\", \"\")], delimiter=',', quoting=csv.QUOTE_MINIMAL)\n",
    "    paperCsvList = next(paperCsv)\n",
    "    return paperCsvList[0], paperCsvList[14]\n",
    "\n",
    "paperCsvRdd = sc.textFile(\"Datasets/papers.csv\")\n",
    "paperCsvRdd = paperCsvRdd.map(processPaperCsv).filter(lambda x: (x[1] != \"\" and x[1] != \" \")).map(lambda x: (int(x[0]),x[1].split(\" \")))"
   ]
  },
  {
   "cell_type": "code",
   "execution_count": 23,
   "id": "66cd7c79",
   "metadata": {},
   "outputs": [],
   "source": [
    "stopWords = sc.textFile(\"Datasets/stopwords_en.txt\")\n",
    "stopWordsBroadcast = sc.broadcast(stopWords.collect())"
   ]
  },
  {
   "cell_type": "code",
   "execution_count": 25,
   "id": "f9dbc1e3",
   "metadata": {},
   "outputs": [],
   "source": [
    "def removeStopWords(wordList):\n",
    "    abstractwordsList = wordList.copy()\n",
    "    for a in wordList:\n",
    "        if ((a in stopWordsBroadcast.value) or a == \"\" or a == \" \"):\n",
    "            abstractwordsList.remove(a)\n",
    "    return abstractwordsList\n",
    "\n",
    "userLibraryJoinPaperRdd = userLibraryRdd.flatMapValues(lambda x: x).map(lambda x: (x[1],x[0])).join(paperCsvRdd)\n",
    "userLibraryJoinPaperRdd = userLibraryJoinPaperRdd.map(lambda x: (x[1][0],x[1][1]))\n",
    "userLibraryJoinPaperRdd = userLibraryJoinPaperRdd.flatMapValues(lambda x:x).groupByKey().mapValues(list)\n",
    "userLibraryJoinPaperWithoutStopWordsRdd = userLibraryJoinPaperRdd.mapValues(removeStopWords)"
   ]
  },
  {
   "cell_type": "code",
   "execution_count": 31,
   "id": "6ecff4ec",
   "metadata": {},
   "outputs": [],
   "source": [
    "def findTopMostFrequentWords(x):\n",
    "    CounterList = Counter(x)\n",
    "    topTenMostFrequentWordWithCount = CounterList.most_common(10)\n",
    "    topTenMostFrequentWord = [word for word, word_count in topTenMostFrequentWordWithCount]\n",
    "    return topTenMostFrequentWord\n",
    "\n",
    "frequentlyOccuringWordList = userLibraryJoinPaperWithoutStopWordsRdd.mapValues(findTopMostFrequentWords)"
   ]
  },
  {
   "cell_type": "code",
   "execution_count": 27,
   "id": "f522b2dd",
   "metadata": {},
   "outputs": [
    {
     "data": {
      "text/plain": [
       "[('2eda10fc4ff01f28b30258e7e6b7bc4b',\n",
       "  ['paradigm',\n",
       "   'e-learning',\n",
       "   'tagclouds',\n",
       "   '{ict}',\n",
       "   'set',\n",
       "   'effectiveness',\n",
       "   'time,',\n",
       "   \"it's\",\n",
       "   'changing',\n",
       "   'education'])]"
      ]
     },
     "execution_count": 27,
     "metadata": {},
     "output_type": "execute_result"
    }
   ],
   "source": [
    "#frequentlyOccuringWordList.take(1)"
   ]
  },
  {
   "cell_type": "code",
   "execution_count": null,
   "id": "5ad71a59",
   "metadata": {},
   "outputs": [],
   "source": [
    "def CreateCsvLine(data):\n",
    "    csvLineData = data[0] + \",\" + (','.join(str(d) for d in data[1]))\n",
    "    return csvLineData\n",
    "\n",
    "frequentlyOccuringWordListFile = frequentlyOccuringWordList.map(CreateCsvLine)\n",
    "frequentlyOccuringWordListFile.saveAsTextFile(\"Datasets/Top10MostFrequentWordsForEachUser.csv\")"
   ]
  },
  {
   "cell_type": "code",
   "execution_count": 35,
   "id": "68611719",
   "metadata": {},
   "outputs": [
    {
     "data": {
      "text/plain": [
       "['06e4740007a1bda01165625971cbda70,tagging,social,tags,systems,tag,metadata,users,systems.,collaborative,web',\n",
       " '21467d75263f51fcb0e5f14e0059c158,motivation,game,intrinsic,games,research,data,learning,motivation.,gamification,software',\n",
       " '61f79c812be20b5c9e7b802702e2ab39,information,software,semantic,,knowledge,ontologies,tools,search,context,code',\n",
       " '49f5d8f90007547f86c7d38ad5ae74d3,defeasible,reasoning,nonmonotonic,rule,systems,semantic,web.,based,system,rules,']"
      ]
     },
     "execution_count": 35,
     "metadata": {},
     "output_type": "execute_result"
    }
   ],
   "source": [
    "#frequentlyOccuringWordListFile.take(4)"
   ]
  },
  {
   "cell_type": "code",
   "execution_count": null,
   "id": "8bd7ff8e",
   "metadata": {},
   "outputs": [],
   "source": []
  }
 ],
 "metadata": {
  "kernelspec": {
   "display_name": "Python 3",
   "language": "python",
   "name": "python3"
  },
  "language_info": {
   "codemirror_mode": {
    "name": "ipython",
    "version": 3
   },
   "file_extension": ".py",
   "mimetype": "text/x-python",
   "name": "python",
   "nbconvert_exporter": "python",
   "pygments_lexer": "ipython3",
   "version": "3.9.4"
  }
 },
 "nbformat": 4,
 "nbformat_minor": 5
}
