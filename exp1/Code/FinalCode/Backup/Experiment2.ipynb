{
 "cells": [
  {
   "cell_type": "code",
   "execution_count": 26,
   "id": "048903f8",
   "metadata": {},
   "outputs": [],
   "source": [
    "#Importing necessary libraries\n",
    "\n",
    "from pyspark import SparkContext,SparkConf\n",
    "from pyspark.sql import SparkSession\n",
    "from pyspark.sql.types import *\n",
    "from pyspark.sql.functions import *\n",
    "from pyspark.sql import Row\n",
    "import pandas as pd\n",
    "import matplotlib.pyplot as plt\n",
    "from pyspark.sql.window import Window\n",
    "import numpy as np\n",
    "import random as rand\n",
    "from pyspark.ml.evaluation import RegressionEvaluator\n",
    "from pyspark.ml.recommendation import ALS\n",
    "from pyspark.ml.tuning import ParamGridBuilder, CrossValidator"
   ]
  },
  {
   "cell_type": "code",
   "execution_count": 2,
   "id": "f97b2a26",
   "metadata": {},
   "outputs": [],
   "source": [
    "sc = SparkContext()\n",
    "spark = SparkSession.builder.appName('Experiment2').getOrCreate()"
   ]
  },
  {
   "cell_type": "code",
   "execution_count": 3,
   "id": "e75cea4f",
   "metadata": {},
   "outputs": [],
   "source": [
    "#PREPARING DATAFRAMES FOR DATSETS\n",
    "\n",
    "#PaperCsv dataframe\n",
    "papersCsvSchema = StructType([\n",
    "    StructField(\"paper_id\",StringType(),False),\n",
    "    StructField(\"type\",StringType(),False),\n",
    "    StructField(\"journal\",StringType(),False),\n",
    "    StructField(\"book_title\",StringType(),False),\n",
    "    StructField(\"series\",StringType(),False),\n",
    "    StructField(\"publisher\",StringType(),False),\n",
    "    StructField(\"pages\",StringType(),False),\n",
    "    StructField(\"volume\",StringType(),False),\n",
    "    StructField(\"number\",StringType(),False),\n",
    "    StructField(\"year\",StringType(),False),\n",
    "    StructField(\"month\",StringType(),False),\n",
    "    StructField(\"postedat\",StringType(),False),\n",
    "    StructField(\"address\",StringType(),False),\n",
    "    StructField(\"title\",StringType(),False),\n",
    "    StructField(\"abstract\",StringType(),False),\n",
    "])\n",
    "df_paperCsv = spark.read.csv(\"Datasets/papers.csv\", sep = \",\", header = False, schema = papersCsvSchema, quote = '\"')\n",
    "\n",
    "#UserLibrary dataframe\n",
    "userLibrarySchema = StructType([\n",
    "    StructField(\"user_hash_id\",StringType(),False),\n",
    "    StructField(\"user_library\",StringType(),False)\n",
    "])\n",
    "df_userLibrary = spark.read.csv(\"Datasets/users_libraries.txt\", sep = \";\", header = False, schema = userLibrarySchema)\n",
    "df_userLibrary = df_userLibrary.selectExpr(\"user_hash_id\",\"split(user_library,',') AS user_library\")"
   ]
  },
  {
   "cell_type": "code",
   "execution_count": 24,
   "id": "faf51097",
   "metadata": {},
   "outputs": [
    {
     "name": "stdout",
     "output_type": "stream",
     "text": [
      "The sparsity of the ratings matrix(in percentage): 99.98305694442851\n"
     ]
    }
   ],
   "source": [
    "#Ex2.1 --a- Calculating the sparsity of the Matrix\n",
    "\n",
    "def calculateMatrixSparsity(x_items,y_items,no_of_items):\n",
    "    total_elements = x_items*y_items\n",
    "    matrix_sparsity = 1 - (no_of_items/total_elements)\n",
    "    return matrix_sparsity*100\n",
    "\n",
    "\n",
    "userLibraryExplode = df_userLibrary.select(df_userLibrary.user_hash_id,explode(df_userLibrary.user_library).alias(\"paper_id\"))\n",
    "\n",
    "noOfDistinctUsers_df = int(userLibraryExplode.select(countDistinct(\"user_hash_id\")).collect()[0][0])\n",
    "noOfDistinctItems_df = int(userLibraryExplode.select(countDistinct(\"paper_id\")).collect()[0][0])\n",
    "noOfRatings_df = userLibraryExplode.count()\n",
    "\n",
    "ratingMatrixSparsity = calculateMatrixSparsity(noOfDistinctUsers_df,noOfDistinctItems_df,noOfRatings_df)\n",
    "\n",
    "print(\"The sparsity of the ratings matrix(in percentage):\",ratingMatrixSparsity)"
   ]
  },
  {
   "cell_type": "code",
   "execution_count": 12,
   "id": "8503ef96",
   "metadata": {},
   "outputs": [
    {
     "data": {
      "text/plain": [
       "Text(0.5, 1.0, 'Number of Ratings given by User')"
      ]
     },
     "execution_count": 12,
     "metadata": {},
     "output_type": "execute_result"
    },
    {
     "data": {
      "image/png": "[encoded data removed]",
      "text/plain": [
       "<Figure size 432x288 with 1 Axes>"
      ]
     },
     "metadata": {
      "needs_background": "light"
     },
     "output_type": "display_data"
    }
   ],
   "source": [
    "#Ex2.1--b-Plot the (number of users, number of ratings) rank-frequency distribution\n",
    "\n",
    "df_plot_noOfRatings_noOfUsers = userLibraryExplode.groupBy(\"user_hash_id\").count().withColumnRenamed(\"count\",\"no_of_ratings\").select(\"no_of_ratings\").groupBy(\"no_of_ratings\").count().withColumnRenamed(\"count\",\"no_of_users\").sort(\"no_of_ratings\").toPandas()\n",
    "plt.plot(df_plot_noOfRatings_noOfUsers.no_of_ratings,df_plot_noOfRatings_noOfUsers.no_of_users)\n",
    "plt.xlabel('Number of Ratings')\n",
    "plt.ylabel('Number of Users')\n",
    "plt.title('Number of Ratings given by User')"
   ]
  },
  {
   "cell_type": "code",
   "execution_count": 78,
   "id": "eded0077",
   "metadata": {},
   "outputs": [
    {
     "data": {
      "text/plain": [
       "Text(0.5, 1.0, 'Number of Ratings each Paper Gets')"
      ]
     },
     "execution_count": 78,
     "metadata": {},
     "output_type": "execute_result"
    },
    {
     "data": {
      "image/png": "[encoded data removed]",
      "text/plain": [
       "<Figure size 432x288 with 1 Axes>"
      ]
     },
     "metadata": {
      "needs_background": "light"
     },
     "output_type": "display_data"
    }
   ],
   "source": [
    "#Ex2.1--c-Plot the (number of items, number of ratings) rank-frequency distribution\n",
    "\n",
    "df_plot_noOfItems_noOfRatings = userLibraryExplode.groupBy(\"paper_id\").count().withColumnRenamed(\"count\",\"no_of_items\").select(\"no_of_items\").groupBy(\"no_of_items\").count().withColumnRenamed(\"count\",\"no_of_ratings\").sort(\"no_of_ratings\").toPandas()\n",
    "plt.plot(df_plot_noOfItems_noOfRatings.no_of_ratings,df_plot_noOfItems_noOfRatings.no_of_items)\n",
    "plt.xlabel('Number of Ratings')\n",
    "plt.ylabel('Number of Items')\n",
    "plt.title('Number of Ratings each Paper Gets')\n"
   ]
  },
  {
   "cell_type": "markdown",
   "id": "c2dc203d",
   "metadata": {},
   "source": [
    "The Rank frequency distribution graph of Number of Ratings V/S Number of Items does form a Power Law with a long tail on the right side and displayed above. It clearly indicates that relative change in one quantity(Number of Ratings) results in a proportional relative change in the other quantity(Number of Items)"
   ]
  },
  {
   "cell_type": "code",
   "execution_count": 18,
   "id": "36729e21",
   "metadata": {},
   "outputs": [],
   "source": [
    "#Ex2.2-- Generating Ratings matrix\n",
    "\n",
    "#Generating unique integer id for each user_hash_id\n",
    "df_unique_int_user_id = df_userLibrary.withColumn(\"unique_int_user_id\",row_number().over(Window.orderBy(\"user_hash_id\")))\n",
    "\n",
    "#Find List of distinct paper id's in user library\n",
    "list_of_unique_paper_id = userLibraryExplode.select(\"paper_id\").distinct().toPandas()\n",
    "list_of_unique_paper_id = list(list_of_unique_paper_id[\"paper_id\"])\n",
    "no_unique_paperid = len(list_of_unique_paper_id)\n",
    "\n",
    "##Preparing Data for generaton of Rating Matrix\n",
    "#Function to select q random elements for each user\n",
    "def deleteRandomElementsFromList(list_of_elements,no_of_elements_to_be_deleted):\n",
    "    list_of_elements_to_be_deleted = rand.sample(list_of_elements,no_of_elements_to_be_deleted)\n",
    "    deltaList = np.setdiff1d(list_of_elements,list_of_elements_to_be_deleted,assume_unique=True).tolist()\n",
    "    return list(deltaList)\n",
    "    \n",
    "def findDeltaUserLibrary(x):\n",
    "    no_of_rated_elements = len(x)\n",
    "    no_of_elements_to_be_deleted = no_unique_paperid - 2*no_of_rated_elements\n",
    "    unrated_papers_deltaList = np.setdiff1d(list_of_unique_paper_id,list(x),assume_unique=True).tolist()\n",
    "    if len(unrated_papers_deltaList)>no_of_rated_elements:\n",
    "        unrated_papers_deltaList = deleteRandomElementsFromList(unrated_papers_deltaList,no_of_elements_to_be_deleted)\n",
    "    return list(unrated_papers_deltaList)\n",
    "\n",
    "udf_findDeltaUserLibrary = udf(findDeltaUserLibrary, ArrayType(StringType()))\n",
    "\n",
    "#dataframe for rated papers\n",
    "ratings_matrix_with_ratedpapers = df_unique_int_user_id.select(df_unique_int_user_id.user_hash_id,df_unique_int_user_id.unique_int_user_id,\n",
    "                                  explode(df_unique_int_user_id.user_library).alias(\"paper_id\"),lit(1).alias(\"rating\"))\n",
    "\n",
    "#dataframe for unrated papers\n",
    "ratings_matrix_with_unratedpapers = df_unique_int_user_id.select(df_unique_int_user_id.user_hash_id,df_unique_int_user_id.unique_int_user_id,\n",
    "                                  explode(udf_findDeltaUserLibrary(df_unique_int_user_id.user_library)).alias(\"paper_id\"),lit(0).alias(\"rating\"))\n",
    "\n",
    "#combining dataframes of rated and unrated papers\n",
    "df_user_rating_matrix = ratings_matrix_with_ratedpapers.union(ratings_matrix_with_unratedpapers)\n",
    "df_user_rating_matrix = df_user_rating_matrix.withColumn(\"paper_id\",col(\"paper_id\").cast(IntegerType()))\n",
    "df_final_user_rating_matrix = df_user_rating_matrix.selectExpr(\"unique_int_user_id\",\"paper_id\",\"rating\")"
   ]
  },
  {
   "cell_type": "code",
   "execution_count": 23,
   "id": "e06d8ed6",
   "metadata": {
    "collapsed": true
   },
   "outputs": [
    {
     "name": "stdout",
     "output_type": "stream",
     "text": [
      "+--------------------+------------------+--------+------+\n",
      "|        user_hash_id|unique_int_user_id|paper_id|rating|\n",
      "+--------------------+------------------+--------+------+\n",
      "|0002647bf4e8cfbb8...|                 1| 4235855|     1|\n",
      "|00095808cdc611fb5...|                 2| 4252064|     1|\n",
      "|00095808cdc611fb5...|                 2| 3859047|     1|\n",
      "|00095808cdc611fb5...|                 2| 3226232|     1|\n",
      "|00095808cdc611fb5...|                 2| 9452433|     1|\n",
      "|00095808cdc611fb5...|                 2| 1325487|     1|\n",
      "|000a87940e47aef8c...|                 3| 1129224|     1|\n",
      "|000a87940e47aef8c...|                 3| 1290815|     1|\n",
      "|000a87940e47aef8c...|                 3|   90557|     1|\n",
      "|000a87940e47aef8c...|                 3|   77265|     1|\n",
      "|000ac87bf9c1623ee...|                 4| 1203293|     1|\n",
      "|000ac87bf9c1623ee...|                 4| 1228522|     1|\n",
      "|000ac87bf9c1623ee...|                 4| 1203207|     1|\n",
      "|000e5a48701b81078...|                 5|  580009|     1|\n",
      "|000e5a48701b81078...|                 5|  580007|     1|\n",
      "|000e984f80e531b77...|                 6| 2773363|     1|\n",
      "|000e984f80e531b77...|                 6| 2402521|     1|\n",
      "|000e984f80e531b77...|                 6| 7630961|     1|\n",
      "|000e984f80e531b77...|                 6| 3481153|     1|\n",
      "|000e984f80e531b77...|                 6|  344219|     1|\n",
      "+--------------------+------------------+--------+------+\n",
      "only showing top 20 rows\n",
      "\n"
     ]
    }
   ],
   "source": [
    "#Ex2.2\n",
    "# The output of rating matrix\n",
    "df_user_rating_matrix.show()"
   ]
  },
  {
   "cell_type": "code",
   "execution_count": 51,
   "id": "722e80bf",
   "metadata": {},
   "outputs": [],
   "source": [
    "#Ex2.3\n",
    "\n",
    "# Create ALS Model\n",
    "user_paper_als_model = ALS(\n",
    "         implicitPrefs = False,\n",
    "         maxIter = 2,\n",
    "         userCol=\"unique_int_user_id\", \n",
    "         itemCol=\"paper_id\",\n",
    "         ratingCol=\"rating\", \n",
    "         nonnegative = True, \n",
    "         coldStartStrategy=\"drop\")\n",
    "\n",
    "#Build the recommendation model using ALS on the ratings data\n",
    "recommendation_model = user_paper_als_model.fit(df_final_user_rating_matrix)\n",
    "\n",
    "#Generate top 10 recommendations for all users and display\n",
    "top_10_recommend_for_each_user = recommendation_model.recommendForAllUsers(10)\n",
    "\n",
    "top_10_recommend_for_each_user = top_10_recommend_for_each_user.withColumn(\"recommended_papers\", explode(\"recommendations\")).select(\n",
    "    'unique_int_user_id', col(\"recommended_papers.paper_id\"), col(\"recommended_papers.rating\"))\n",
    "\n",
    "top_10_recommend_for_each_user = top_10_recommend_for_each_user.join(df_unique_int_user_id,top_10_recommend_for_each_user.unique_int_user_id == df_unique_int_user_id.unique_int_user_id,how=\"inner\").select(\n",
    "    df_unique_int_user_id.user_hash_id,top_10_recommend_for_each_user.unique_int_user_id,top_10_recommend_for_each_user.paper_id,top_10_recommend_for_each_user.rating)"
   ]
  },
  {
   "cell_type": "code",
   "execution_count": 70,
   "id": "901b2f53",
   "metadata": {
    "collapsed": true
   },
   "outputs": [
    {
     "name": "stdout",
     "output_type": "stream",
     "text": [
      "+--------------------+------------------+--------+----------+\n",
      "|        user_hash_id|unique_int_user_id|paper_id|    rating|\n",
      "+--------------------+------------------+--------+----------+\n",
      "|016cbe6d6b9fb520f...|               148| 5308536| 1.0270573|\n",
      "|016cbe6d6b9fb520f...|               148| 5840180| 1.0228165|\n",
      "|016cbe6d6b9fb520f...|               148| 7943345| 0.9940475|\n",
      "|016cbe6d6b9fb520f...|               148| 1386892|0.98722875|\n",
      "|016cbe6d6b9fb520f...|               148|  381409| 0.9745653|\n",
      "|016cbe6d6b9fb520f...|               148| 4235166| 0.9718689|\n",
      "|016cbe6d6b9fb520f...|               148| 5930898|0.95211613|\n",
      "|016cbe6d6b9fb520f...|               148| 7424783| 0.9461434|\n",
      "|016cbe6d6b9fb520f...|               148| 2782279|0.94550604|\n",
      "|016cbe6d6b9fb520f...|               148| 6656685|0.94221926|\n",
      "|045662ed61d0a73cb...|               463| 2924195| 1.1467229|\n",
      "|045662ed61d0a73cb...|               463| 3910275| 1.1441437|\n",
      "|045662ed61d0a73cb...|               463| 2804619| 1.1123625|\n",
      "|045662ed61d0a73cb...|               463| 3702790| 1.1036111|\n",
      "|045662ed61d0a73cb...|               463| 1706658| 1.1028246|\n",
      "|045662ed61d0a73cb...|               463| 3095124| 1.0840622|\n",
      "|045662ed61d0a73cb...|               463| 3885729| 1.0840296|\n",
      "|045662ed61d0a73cb...|               463| 3779660| 1.0727022|\n",
      "|045662ed61d0a73cb...|               463| 6065174| 1.0697256|\n",
      "|045662ed61d0a73cb...|               463| 1474320| 1.0648404|\n",
      "+--------------------+------------------+--------+----------+\n",
      "only showing top 20 rows\n",
      "\n"
     ]
    }
   ],
   "source": [
    "#Ex2.3\n",
    "\n",
    "#Displaying the top 10 recommendation for all users\n",
    "top_10_recommend_for_each_user.show()"
   ]
  },
  {
   "cell_type": "code",
   "execution_count": 69,
   "id": "07ae12d4",
   "metadata": {
    "collapsed": true
   },
   "outputs": [
    {
     "name": "stdout",
     "output_type": "stream",
     "text": [
      "+--------------------+------------------+--------+----------+\n",
      "|        user_hash_id|unique_int_user_id|paper_id|    rating|\n",
      "+--------------------+------------------+--------+----------+\n",
      "|1eac022a97d683eac...|              3347| 6656685| 1.0605303|\n",
      "|1eac022a97d683eac...|              3347| 1902953| 1.0243104|\n",
      "|1eac022a97d683eac...|              3347| 4235166| 1.0191036|\n",
      "|1eac022a97d683eac...|              3347| 1286298| 1.0186714|\n",
      "|1eac022a97d683eac...|              3347| 2566574|  1.004444|\n",
      "|1eac022a97d683eac...|              3347| 5280065| 1.0035944|\n",
      "|1eac022a97d683eac...|              3347|  392801|  0.997721|\n",
      "|1eac022a97d683eac...|              3347| 6498712| 0.9974292|\n",
      "|1eac022a97d683eac...|              3347| 3173937|0.99642354|\n",
      "|1eac022a97d683eac...|              3347| 8148888|   0.99544|\n",
      "+--------------------+------------------+--------+----------+\n",
      "\n"
     ]
    }
   ],
   "source": [
    "#Ex2.3\n",
    "\n",
    "#Dispalying the top 10 recommendations for user with user hash id = 1eac022a97d683eace8815545ce3153f\n",
    "top_10_recommend_for_each_user.filter(\"user_hash_id = '1eac022a97d683eace8815545ce3153f'\").show()"
   ]
  },
  {
   "cell_type": "code",
   "execution_count": 52,
   "id": "6455eb8a",
   "metadata": {},
   "outputs": [],
   "source": [
    "#Ex2.4\n",
    "\n",
    "#a\n",
    "#Distributing the rating matrix data into 2 sets: training data(70%) and test data(30%)\n",
    "(training_data, test_data) = df_final_user_rating_matrix.randomSplit([0.7, 0.3])\n",
    "\n",
    "#b\n",
    "#Build the recommendation model using ALS on the training data: train the model using the training data\n",
    "recommendation_model = user_paper_als_model.fit(training_data)\n"
   ]
  },
  {
   "cell_type": "code",
   "execution_count": 71,
   "id": "d6741e76",
   "metadata": {},
   "outputs": [
    {
     "name": "stdout",
     "output_type": "stream",
     "text": [
      "Root-mean-square error over the Test set = 0.49823484439638377\n"
     ]
    }
   ],
   "source": [
    "#Ex2.4\n",
    "\n",
    "#c\n",
    "#Computng the RMSE value over the rating test data for above ALS Model\n",
    "\n",
    "predictions = recommendation_model.transform(test_data)\n",
    "evaluator = RegressionEvaluator(metricName=\"rmse\", labelCol=\"rating\",predictionCol=\"prediction\")\n",
    "rmse = evaluator.evaluate(predictions)\n",
    "print(\"Root-mean-square error over the Test set = \" + str(rmse))"
   ]
  },
  {
   "cell_type": "code",
   "execution_count": 74,
   "id": "e0b852c7",
   "metadata": {},
   "outputs": [],
   "source": [
    "#Ex2.5\n",
    "\n",
    "#a,b\n",
    "new_user_paper_als_model = ALS(\n",
    "         implicitPrefs = False,\n",
    "         userCol=\"unique_int_user_id\", \n",
    "         itemCol=\"paper_id\",\n",
    "         ratingCol=\"rating\", \n",
    "         nonnegative = True, \n",
    "         coldStartStrategy=\"drop\")\n",
    "\n",
    "# Add hyperparameters and their respective values to param_grid\n",
    "param_grid = ParamGridBuilder().addGrid(new_user_paper_als_model.rank, [10, 25, 50]).build()\n",
    "\n",
    "#RMSE Evaluator\n",
    "new_evaluator = RegressionEvaluator(metricName=\"rmse\", labelCol=\"rating\",predictionCol=\"prediction\")\n",
    "\n",
    "# Build cross validation using CrossValidator\n",
    "cv = CrossValidator(estimator=new_user_paper_als_model, estimatorParamMaps=param_grid, evaluator=new_evaluator, numFolds=5)\n",
    "\n",
    "#Build the recommendation model using CV-ALS on the training data: train the model using te training data\n",
    "new_recommendation_model = cv.fit(training_data)\n",
    "\n",
    "#Extracting best model \n",
    "best_model = new_recommendation_model.bestModel\n",
    "\n",
    "# View the predictions\n",
    "test_predictions = best_model.transform(test_data)\n",
    "new_model_rmse = evaluator.evaluate(test_predictions)\n"
   ]
  },
  {
   "cell_type": "code",
   "execution_count": 77,
   "id": "c60c5ae7",
   "metadata": {},
   "outputs": [
    {
     "name": "stdout",
     "output_type": "stream",
     "text": [
      "Root-mean-square error over the Test set for Best Model = 0.538285176321377\n",
      "Best Model Rank: 50\n",
      "Best Model MaxIter: 10\n"
     ]
    }
   ],
   "source": [
    "print(\"Root-mean-square error over the Test set for Best Model = \" + str(new_model_rmse))\n",
    "print(\"Best Model Rank:\", best_model._java_obj.parent().getRank())\n",
    "print(\"Best Model MaxIter:\", best_model._java_obj.parent().getMaxIter())"
   ]
  },
  {
   "cell_type": "markdown",
   "id": "f58a7006",
   "metadata": {},
   "source": [
    "# Note:\n",
    "\n",
    "Due to the memory and processor issue of the computer , i was unable to proceed with the Ex2.5--Part B,where it is asked to increase the MaxIter and observe the output. Just for training the model it took me 12 hrs of time. so i was short on time to execute the the model by increasing the maxIter.\n",
    "\n",
    "However if you compare the above outputs of Model1(recommendation_model) where maxIter=2 with Model2(new_recommendation_model) where maxIter value is default(by default maxIter value=10), it clearly says that the RMSE value generated by Model1 is lesser than the RMSE value generated by Model2. So it means that increasing the maxIter did not lead to good results"
   ]
  }
 ],
 "metadata": {
  "kernelspec": {
   "display_name": "Python 3",
   "language": "python",
   "name": "python3"
  },
  "language_info": {
   "codemirror_mode": {
    "name": "ipython",
    "version": 3
   },
   "file_extension": ".py",
   "mimetype": "text/x-python",
   "name": "python",
   "nbconvert_exporter": "python",
   "pygments_lexer": "ipython3",
   "version": "3.9.4"
  }
 },
 "nbformat": 4,
 "nbformat_minor": 5
}
