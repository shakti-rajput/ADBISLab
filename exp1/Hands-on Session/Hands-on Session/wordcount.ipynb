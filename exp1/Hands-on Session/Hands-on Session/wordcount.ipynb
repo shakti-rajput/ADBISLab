{
 "cells": [
  {
   "cell_type": "code",
   "execution_count": 1,
   "metadata": {},
   "outputs": [],
   "source": [
    "#You can add some imports\n",
    "#from pyspark.sql import functions as F\n",
    "from pyspark.sql import SparkSession\n",
    "from pyspark.sql import SQLContext\n",
    "from pyspark.sql.types import *\n",
    "from pyspark.sql.types import StringType\n",
    "from pyspark.sql.types import StructType\n",
    "from pyspark.sql.types import StructField\n",
    "from pyspark.sql import Row\n",
    "\n",
    "import pyspark"
   ]
  },
  {
   "cell_type": "code",
   "execution_count": 2,
   "metadata": {},
   "outputs": [],
   "source": [
    "# initialise Spark Session\n",
    "sparkSession = SparkSession.builder.appName(\"wordCount\").getOrCreate()"
   ]
  },
  {
   "cell_type": "code",
   "execution_count": 5,
   "metadata": {},
   "outputs": [
    {
     "data": {
      "text/plain": [
       "[('hello', 2),\n",
       " ('ola', 1),\n",
       " ('hi', 3),\n",
       " ('hola', 2),\n",
       " ('ciao', 1),\n",
       " ('hallo', 1),\n",
       " ('konnichiwa', 1),\n",
       " ('nihao', 2),\n",
       " ('bonjour', 1)]"
      ]
     },
     "execution_count": 5,
     "metadata": {},
     "output_type": "execute_result"
    }
   ],
   "source": [
    "# Alternative 1\n",
    "data = ['hello hi hi hallo', 'bonjour hola hi ciao', 'nihao konnichiwa ola', 'hola nihao hello']\n",
    "rdd = sparkSession.sparkContext.parallelize(data)\n",
    "rdd.first()\n",
    "rdd.collect()\n",
    "counts = rdd.flatMap(lambda line: line.split(' ')) \\\n",
    "             .map(lambda word: (word, 1)) \\\n",
    "             .reduceByKey(lambda a, b: a + b)\n",
    "counts.collect()"
   ]
  },
  {
   "cell_type": "code",
   "execution_count": 6,
   "metadata": {},
   "outputs": [
    {
     "data": {
      "text/plain": [
       "[('hola', 2),\n",
       " ('nihao', 2),\n",
       " ('hello', 2),\n",
       " ('hi', 3),\n",
       " ('hallo', 1),\n",
       " ('bonjour', 1),\n",
       " ('ciao', 1),\n",
       " ('konnichiwa', 1),\n",
       " ('ola', 1)]"
      ]
     },
     "execution_count": 6,
     "metadata": {},
     "output_type": "execute_result"
    }
   ],
   "source": [
    "# Alternative 2\n",
    "rdd = sparkSession.sparkContext.textFile(\"./data/data.txt\")\n",
    "counts = rdd.flatMap(lambda line: line.split(' ')) \\\n",
    "             .map(lambda word: (word, 1)) \\\n",
    "             .reduceByKey(lambda a, b: a + b)\n",
    "counts.collect()"
   ]
  }
 ],
 "metadata": {
  "kernelspec": {
   "display_name": "Python 3",
   "language": "python",
   "name": "python3"
  },
  "language_info": {
   "codemirror_mode": {
    "name": "ipython",
    "version": 3
   },
   "file_extension": ".py",
   "mimetype": "text/x-python",
   "name": "python",
   "nbconvert_exporter": "python",
   "pygments_lexer": "ipython3",
   "version": "3.6.5"
  }
 },
 "nbformat": 4,
 "nbformat_minor": 2
}
